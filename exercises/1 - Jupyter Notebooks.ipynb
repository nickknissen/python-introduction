{
 "cells": [
  {
   "cell_type": "markdown",
   "id": "775eb8f9-9f69-4b00-a1cc-24eaa15ba333",
   "metadata": {},
   "source": [
    "## Exercise 1: Running Cells\n",
    "Instructions: Run the cell below using Shift + Enter and Ctrl + Enter."
   ]
  },
  {
   "cell_type": "code",
   "execution_count": null,
   "id": "096b61cd-57c1-4b9c-8e75-916578e2c900",
   "metadata": {},
   "outputs": [],
   "source": [
    "print(\"Hello, Jupyter!\")"
   ]
  },
  {
   "attachments": {},
   "cell_type": "markdown",
   "id": "128c4cfd-c03c-4dca-a3df-9bd75469d614",
   "metadata": {},
   "source": [
    "## Exercise 2: Creating a markdown text\n",
    "Select the cell below and change the cell type to Markdown and write `# This is a headline` followed by clicking the run button ▶️  \n",
    "For markdown syntax see (https://www.markdownguide.org/cheat-sheet/)[markdown cheatsheet]"
   ]
  },
  {
   "cell_type": "code",
   "execution_count": null,
   "id": "dce98d13-d153-4dcd-8d84-6b2129cf14d5",
   "metadata": {},
   "outputs": [],
   "source": []
  },
  {
   "cell_type": "markdown",
   "id": "2f0cbb76-902c-452c-9935-b902355de5ad",
   "metadata": {
    "jp-MarkdownHeadingCollapsed": true
   },
   "source": [
    "### Exercise 3: Saving and Reverting to Checkpoints\n",
    "Instructions: Modify this markdown text by double clicking this cell, then change the text, save the notebook 💾 (File -> Save),\n",
    "then revert to the last checkpoint (File -> Revert Notebook to Checkpoint) to see the original text.\n"
   ]
  },
  {
   "cell_type": "markdown",
   "id": "de472084-fd9f-461d-987b-ebd1b6518d98",
   "metadata": {},
   "source": [
    "## Exercise 4: Tab Completion"
   ]
  },
  {
   "cell_type": "code",
   "execution_count": null,
   "id": "492dbde2-a308-4760-8d7a-9de7266c9c8d",
   "metadata": {},
   "outputs": [],
   "source": [
    "# Instructions: Type 'im' below this comment and press Tab to see available modules.\n"
   ]
  },
  {
   "cell_type": "markdown",
   "id": "3e4f8efb-6ffe-447f-a564-ae4f851a281d",
   "metadata": {},
   "source": [
    "## Exercise 5: Introspection\n",
    "Instructions: Use ? or ?? to inspect functions or variables"
   ]
  },
  {
   "cell_type": "code",
   "execution_count": null,
   "id": "a3a62c75-8569-447a-9ee5-983f69c50d30",
   "metadata": {},
   "outputs": [],
   "source": [
    "??"
   ]
  },
  {
   "cell_type": "code",
   "execution_count": null,
   "id": "916de1b5-f71a-415b-9179-03927ef0b634",
   "metadata": {},
   "outputs": [],
   "source": [
    "len?"
   ]
  },
  {
   "cell_type": "markdown",
   "id": "ae94603d-4ad9-4d0d-a043-f0d4ac9e5abc",
   "metadata": {},
   "source": [
    "## Exercise 5: Running Cells Efficiently\n",
    "Instructions: Practice Shift + Enter (run and create new cell) vs. Ctrl + Enter (run without new cell).\n"
   ]
  },
  {
   "cell_type": "code",
   "execution_count": null,
   "id": "e040f205-e649-404b-8c89-d7633569d90f",
   "metadata": {},
   "outputs": [],
   "source": [
    "print(\"Select this field and press Ctrl + Enter\")"
   ]
  },
  {
   "cell_type": "code",
   "execution_count": null,
   "id": "698dd1e5-2a98-439e-bc41-22c70fc738a7",
   "metadata": {},
   "outputs": [],
   "source": [
    "print(\"Select this field and press Shift + Enter\")"
   ]
  }
 ],
 "metadata": {
  "kernelspec": {
   "display_name": "anaconda-panel-2023.05-py310",
   "language": "python",
   "name": "conda-env-anaconda-panel-2023.05-py310-py"
  },
  "language_info": {
   "codemirror_mode": {
    "name": "ipython",
    "version": 3
   },
   "file_extension": ".py",
   "mimetype": "text/x-python",
   "name": "python",
   "nbconvert_exporter": "python",
   "pygments_lexer": "ipython3",
   "version": "3.11.5"
  }
 },
 "nbformat": 4,
 "nbformat_minor": 5
}
