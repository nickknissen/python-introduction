{
 "cells": [
  {
   "cell_type": "markdown",
   "id": "22d7d68b-fa0b-454f-aa5f-a865674016f6",
   "metadata": {},
   "source": [
    "# Python For and While loops"
   ]
  },
  {
   "cell_type": "markdown",
   "id": "5ed7ff29-02cf-4837-a395-41feaf1a5500",
   "metadata": {
    "jp-MarkdownHeadingCollapsed": true
   },
   "source": [
    "## Hints"
   ]
  },
  {
   "cell_type": "markdown",
   "id": "6cbb7916-3abf-4592-857e-405620ac0202",
   "metadata": {},
   "source": [
    "### For loop\n",
    "\n",
    "### Looping Through Lists  \n",
    "- A `for` loop can be used to **iterate through elements of a list** and process each item.  \n",
    "- Example structure:  \n",
    "  ```python\n",
    "  for item in list_name:\n",
    "      # Code to execute for each item\n",
    "  ```\n",
    "\n",
    "---\n",
    "\n",
    "### Looping Using `range()`  \n",
    "- The `range(start, stop, step)` function generates a sequence of numbers.  \n",
    "- The default step is `1`, but you can **change it** to iterate differently.  \n",
    "- Common usage:  \n",
    "  ```python\n",
    "  for i in range(1, 10):  \n",
    "      # Loops from 1 to 9 (10 is not included)\n",
    "  ```\n",
    "\n",
    "---\n",
    "\n",
    "### Looping Through Strings  \n",
    "- Strings are **sequences of characters**, so a `for` loop can **iterate over each character**.  \n",
    "\n",
    "---\n",
    "\n",
    "### Summing Numbers in a Loop  \n",
    "- A `for` loop is commonly used to **calculate the sum of numbers** over a range.\n",
    "\n",
    "---\n",
    "\n",
    "### Looping Through Even or Odd Numbers  \n",
    "- Using `if` conditions inside a `for` loop helps **filter numbers**, such as printing only even numbers.\n",
    "\n",
    "---\n",
    "\n",
    "### Looping Through a Dictionary  \n",
    "- You can use a `for` loop to **iterate through keys and values** of a dictionary using `.items()`.  \n",
    "\n",
    "---\n",
    "\n",
    "### Creating Multiplication Tables  \n",
    "- A `for` loop is useful for **printing a multiplication table**.\n",
    "\n",
    "---\n",
    "\n",
    "### Finding the Largest Number in a List  \n",
    "- A `for` loop can be used to **compare and find the maximum number** in a list.\n",
    "\n",
    "---\n",
    "\n",
    "### Reversing a String Using a Loop  \n",
    "- By iterating over a string in reverse order, you can **construct a reversed version** of it.\n",
    "\n",
    "---\n",
    "\n",
    "### Skipping Iterations Using `continue`  \n",
    "- The `continue` statement **skips the current iteration** and moves to the next one."
   ]
  },
  {
   "cell_type": "markdown",
   "id": "860644d3-69c5-4300-9aa0-74b6d79d5842",
   "metadata": {},
   "source": [
    "### While loops\n",
    "\n",
    "### Basic Structure of a While Loop\n",
    "- The typical structure is:\n",
    "  ```python\n",
    "  while condition:\n",
    "      # Code to execute repeatedly\n",
    "  ```\n",
    "- Make sure that something within the loop eventually makes the condition false, otherwise the loop will run indefinitely.\n",
    "\n",
    "---\n",
    "\n",
    "### Using Counters in While Loops\n",
    "- Often, you'll use a counter variable to track the number of iterations.\n",
    "- Remember to update the counter within the loop to avoid infinite loops.\n",
    "\n",
    "---\n",
    "\n",
    "### Managing Conditions\n",
    "- The loop continues to execute as long as the condition remains true.\n",
    "- Conditions can be built using comparison operators (like `<`, `>`, `==`, etc.) and logical operators (such as `and`, `or`, `not`).\n",
    "\n",
    "---\n",
    "\n",
    "### Breaking Out of a Loop\n",
    "- You can exit a while loop prematurely using the `break` statement.\n",
    "- This is useful when a specific condition is met within the loop that requires an early exit.\n",
    "\n",
    "---\n",
    "\n",
    "### Interacting with User Input\n",
    "- While loops are great for scenarios where you need to repeatedly prompt the user until valid input is received.\n",
    "- Use the `input()` function to gather user data within a loop."
   ]
  },
  {
   "cell_type": "markdown",
   "id": "4b0dbb33-1df0-49e0-8691-fe79e534ca8c",
   "metadata": {},
   "source": [
    "## Exercises"
   ]
  },
  {
   "cell_type": "markdown",
   "id": "6b2ea307-8da9-43f2-adb4-d7ac98cd710c",
   "metadata": {
    "jp-MarkdownHeadingCollapsed": true
   },
   "source": [
    "### Exercise 1: Looping Through a List  \n",
    "Write a program that iterates through the list `fruits = [\"apple\", \"banana\", \"cherry\"]` and prints each fruit."
   ]
  },
  {
   "cell_type": "code",
   "execution_count": null,
   "id": "a5ad22c4-4bb6-4327-b801-7b107e670f3a",
   "metadata": {},
   "outputs": [],
   "source": [
    "# Your code here"
   ]
  },
  {
   "cell_type": "markdown",
   "id": "b77bc31f-f243-46d8-ae69-7b29b1487655",
   "metadata": {
    "jp-MarkdownHeadingCollapsed": true
   },
   "source": [
    "### Exercise 2: Using a For Loop with a Range  \n",
    "Write a program that prints the numbers from **1 to 10** using a `for` loop and the `range()` function.\n"
   ]
  },
  {
   "cell_type": "code",
   "execution_count": null,
   "id": "9d4a3762-ee55-4bd0-9bbb-dbf857e1dc3a",
   "metadata": {},
   "outputs": [],
   "source": [
    "# Your code here"
   ]
  },
  {
   "cell_type": "markdown",
   "id": "9b95e587-367f-4689-b282-e0e6d9924203",
   "metadata": {
    "jp-MarkdownHeadingCollapsed": true
   },
   "source": [
    "### Exercise 3: Looping Through a String  \n",
    "Write a program that iterates through the string `\"Python\"` and prints each character on a new line.\n"
   ]
  },
  {
   "cell_type": "code",
   "execution_count": null,
   "id": "9e499ab0-6fb8-4e1a-ab5c-105b1976ba58",
   "metadata": {},
   "outputs": [],
   "source": [
    "# Your code here"
   ]
  },
  {
   "cell_type": "markdown",
   "id": "0382bf82-7060-4674-8708-3e033b54507d",
   "metadata": {
    "jp-MarkdownHeadingCollapsed": true
   },
   "source": [
    "### Exercise 4: Sum of First 10 Natural Numbers  \n",
    "Write a program that calculates the **sum of numbers from 1 to 10** using a `for` loop.\n"
   ]
  },
  {
   "cell_type": "code",
   "execution_count": null,
   "id": "e60b73fa-5727-4a55-8ccd-7b776714b741",
   "metadata": {},
   "outputs": [],
   "source": [
    "# Your code here"
   ]
  },
  {
   "cell_type": "markdown",
   "id": "f55afa25-c240-4fa7-86f3-9322ff565051",
   "metadata": {
    "jp-MarkdownHeadingCollapsed": true
   },
   "source": [
    "### Exercise 5: Even Numbers in a Range  \n",
    "Write a program that prints **all even numbers from 1 to 20** using a `for` loop and `if` condition."
   ]
  },
  {
   "cell_type": "code",
   "execution_count": null,
   "id": "27f6af6f-fe01-407c-88a7-e4dbede8bf59",
   "metadata": {},
   "outputs": [],
   "source": [
    "# Your code here"
   ]
  },
  {
   "cell_type": "markdown",
   "id": "ae764c25-570d-4233-b915-f7c6bbbe0147",
   "metadata": {
    "jp-MarkdownHeadingCollapsed": true
   },
   "source": [
    "### Exercise 6: Looping Through a Dictionary  \n",
    "Given the dictionary:  \n",
    "```python\n",
    "student = {\"name\": \"Alice\", \"age\": 20, \"grade\": \"A\"}\n",
    "```\n",
    "Write a program that **loops through the dictionary** and prints **each key and its corresponding value**."
   ]
  },
  {
   "cell_type": "code",
   "execution_count": null,
   "id": "5d616526-47fe-4bfe-8b57-f08dc16ab4e1",
   "metadata": {},
   "outputs": [],
   "source": [
    "# Your code here"
   ]
  },
  {
   "cell_type": "markdown",
   "id": "c5d129d5-8756-4be8-a0b6-1bba8b78467f",
   "metadata": {
    "jp-MarkdownHeadingCollapsed": true
   },
   "source": [
    "### Exercise 7: Multiplication Table  \n",
    "Write a program that prints the **multiplication table of 5** (from `5 x 1` to `5 x 10`) using a `for` loop.\n"
   ]
  },
  {
   "cell_type": "code",
   "execution_count": null,
   "id": "5943c689-93c1-44e8-bb8a-8eb60fdf8129",
   "metadata": {},
   "outputs": [],
   "source": [
    "# Your code here"
   ]
  },
  {
   "cell_type": "markdown",
   "id": "5867438b-4249-400c-b76b-287a59c5367c",
   "metadata": {
    "jp-MarkdownHeadingCollapsed": true
   },
   "source": [
    "### Exercise 8: Finding the Largest Number in a List  \n",
    "Write a program that finds the **largest number** in the list:  \n",
    "```python\n",
    "numbers = [12, 45, 23, 67, 89, 34]\n",
    "```"
   ]
  },
  {
   "cell_type": "code",
   "execution_count": null,
   "id": "7581d588-9647-4eb7-a3e8-4724605f533a",
   "metadata": {},
   "outputs": [],
   "source": [
    "# Your code here"
   ]
  },
  {
   "cell_type": "markdown",
   "id": "03684e3e-1a29-4e2a-ac4f-d5f6ef1f6536",
   "metadata": {
    "jp-MarkdownHeadingCollapsed": true
   },
   "source": [
    "### Exercise 9: Reversing a String Using a For Loop  \n",
    "Write a program that **reverses** the string `\"hello\"` using a `for` loop."
   ]
  },
  {
   "cell_type": "code",
   "execution_count": 37,
   "id": "fc678af7-9528-4919-ab52-ae7f1ca393c1",
   "metadata": {},
   "outputs": [],
   "source": [
    "# Your code here"
   ]
  },
  {
   "cell_type": "markdown",
   "id": "3c996ff7-3167-475b-ac6a-329b50fcf983",
   "metadata": {},
   "source": [
    "### Exercise 10: Skipping Numbers with Continue  \n",
    "Write a program that prints numbers from **1 to 10**, but **skips** the number `5` using the `continue` statement.\n"
   ]
  },
  {
   "cell_type": "code",
   "execution_count": 33,
   "id": "7a70683f-eb39-44a6-8666-79946e6240d2",
   "metadata": {},
   "outputs": [],
   "source": [
    "# Your code here\n"
   ]
  },
  {
   "cell_type": "markdown",
   "id": "93330490-5d60-4c78-8818-83465e0041e8",
   "metadata": {},
   "source": [
    "### Exercise 11: Counting with a While Loop  \n",
    "Write a program that prints numbers from **1 to 10** using a `while` loop.\n"
   ]
  },
  {
   "cell_type": "code",
   "execution_count": null,
   "id": "4891a523-2f06-4977-8635-8246d80aaec6",
   "metadata": {},
   "outputs": [],
   "source": [
    "# Your code here"
   ]
  },
  {
   "cell_type": "markdown",
   "id": "08cfb549-d0b8-4a87-a332-8607baf59eac",
   "metadata": {},
   "source": [
    "### Exercise 12: Sum of First 10 Natural Numbers  \n",
    "Write a program that calculates the **sum of numbers from 1 to 10** using a `while` loop.\n"
   ]
  },
  {
   "cell_type": "code",
   "execution_count": null,
   "id": "f6d90c1e-0942-496f-989a-6b4b201276de",
   "metadata": {},
   "outputs": [],
   "source": [
    "# Your code here"
   ]
  },
  {
   "cell_type": "markdown",
   "id": "2b273adc-415d-44a8-ad14-75fd2a589e81",
   "metadata": {},
   "source": [
    "### Exercise 13: Guessing Game  \n",
    "Write a program that asks the user to guess a secret number (e.g., `7`).  \n",
    "- The program should **keep asking** until the user guesses the correct number.  \n",
    "- Use `input()` to take user input.  "
   ]
  },
  {
   "cell_type": "code",
   "execution_count": 76,
   "id": "43eb88e9-6784-4423-985d-86d81c896bf5",
   "metadata": {},
   "outputs": [],
   "source": [
    "# Your code here"
   ]
  },
  {
   "cell_type": "markdown",
   "id": "62266b2f-fa9a-437b-bab8-6e68e381fe62",
   "metadata": {},
   "source": [
    "### Exercise 14: Even Numbers Until 20  \n",
    "Write a program that prints all **even numbers from 1 to 20** using a `while` loop."
   ]
  },
  {
   "cell_type": "code",
   "execution_count": 64,
   "id": "20372e00-a309-40a1-bc7c-05768ee7dcad",
   "metadata": {},
   "outputs": [],
   "source": [
    "# Your code here"
   ]
  },
  {
   "cell_type": "markdown",
   "id": "6b5b7047-e60d-4bac-92df-dee2fb3f18da",
   "metadata": {},
   "source": [
    "### Exercise 15: Breaking a While Loop  \n",
    "Write a `while` loop that starts counting from `1` but **stops when it reaches 5**, using the `break` statement.\n"
   ]
  },
  {
   "cell_type": "code",
   "execution_count": null,
   "id": "aeffba43-cb41-4339-a29f-d42a25331175",
   "metadata": {},
   "outputs": [],
   "source": [
    "# Your code here"
   ]
  }
 ],
 "metadata": {
  "kernelspec": {
   "display_name": "anaconda-panel-2023.05-py310",
   "language": "python",
   "name": "conda-env-anaconda-panel-2023.05-py310-py"
  },
  "language_info": {
   "codemirror_mode": {
    "name": "ipython",
    "version": 3
   },
   "file_extension": ".py",
   "mimetype": "text/x-python",
   "name": "python",
   "nbconvert_exporter": "python",
   "pygments_lexer": "ipython3",
   "version": "3.11.5"
  }
 },
 "nbformat": 4,
 "nbformat_minor": 5
}
