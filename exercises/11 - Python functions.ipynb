{
 "cells": [
  {
   "cell_type": "markdown",
   "id": "22d7d68b-fa0b-454f-aa5f-a865674016f6",
   "metadata": {},
   "source": [
    "# Python Functions"
   ]
  },
  {
   "cell_type": "markdown",
   "id": "5ed7ff29-02cf-4837-a395-41feaf1a5500",
   "metadata": {},
   "source": [
    "## Hints"
   ]
  },
  {
   "cell_type": "markdown",
   "id": "ade82bb8-fcda-4e51-acfd-6757875ef4d0",
   "metadata": {
    "jp-MarkdownHeadingCollapsed": true
   },
   "source": [
    "### Defining Functions  \n",
    "- Use the `def` keyword to create a function.\n",
    "- **Example Template:**\n",
    "  ```python\n",
    "  def greet():\n",
    "      # TODO: Insert code to display a greeting message\n",
    "      pass\n",
    "  ```\n",
    "  *Hint:* This is the basic structure for defining a function without providing a full solution.\n",
    "\n",
    "---\n",
    "\n",
    "### Return Values  \n",
    "- Functions can return values using the `return` statement.\n",
    "- **Example Template:**\n",
    "  ```python\n",
    "  def square(num):\n",
    "      # TODO: Compute the square of num and return the result\n",
    "      pass\n",
    "  ```\n",
    "  *Hint:* Think about the mathematical operation you need to perform on `num` and how to return that value.\n",
    "\n",
    "---\n",
    "\n",
    "### Functions with Parameters  \n",
    "- You can pass inputs to functions through parameters.\n",
    "- **Example Template:**\n",
    "  ```python\n",
    "  def add(a, b):\n",
    "      # TODO: Compute and return the sum of a and b\n",
    "      pass\n",
    "  ```\n",
    "  *Hint:* Use the parameters to perform the desired calculation without showing a complete solution.\n",
    "\n",
    "---\n",
    "\n",
    "### Default Arguments  \n",
    "- Functions can have default parameter values, which are used if no argument is provided.\n",
    "- **Example Template:**\n",
    "  ```python\n",
    "  def greet_person(name=\"Guest\"):\n",
    "      # TODO: Greet the person using the provided name\n",
    "      pass\n",
    "  ```\n",
    "  *Hint:* The function should work whether or not a name is provided by the caller.\n",
    "\n",
    "---\n",
    "\n",
    "### Variable Number of Arguments  \n",
    "- Use `*args` for an arbitrary number of positional arguments and `**kwargs` for keyword arguments.\n",
    "- **Example Template:**\n",
    "  ```python\n",
    "  def sum_all(*numbers):\n",
    "      # TODO: Iterate over 'numbers' and compute their total\n",
    "      pass\n",
    "  ```\n",
    "  *Hint:* Loop through the given arguments to accumulate a sum without revealing the full implementation.\n",
    "\n",
    "---\n",
    "\n",
    "### Lambda Functions  \n",
    "- Lambda functions are small, anonymous functions defined in a single expression.\n",
    "- **Example Hint:**\n",
    "  ```python\n",
    "  # A lambda function is defined like this:\n",
    "  # multiply = lambda x, y: ... (your expression here)\n",
    "  ```\n",
    "  *Hint:* Consider how you might use a lambda for a simple operation without providing a complete expression.\n",
    "\n",
    "---\n",
    "\n",
    "### Higher-Order Functions  \n",
    "- Functions can take other functions as arguments or return them, enabling powerful abstraction.\n",
    "- **Example Template:**\n",
    "  ```python\n",
    "  def apply_function(func, value):\n",
    "      # TODO: Call 'func' on 'value' and return the result\n",
    "      pass\n",
    "  ```\n",
    "  *Hint:* Think about how to use a function parameter within another function.\n",
    "\n",
    "---\n",
    "\n",
    "### Recursion  \n",
    "- A function can call itself to solve problems that can be broken into similar subproblems.\n",
    "- **Example Template:**\n",
    "  ```python\n",
    "  def factorial(n):\n",
    "      # TODO: Implement factorial recursively with an appropriate base case\n",
    "      pass\n",
    "  ```\n",
    "  *Hint:* Ensure you include a base case to prevent infinite recursion.\n",
    "\n",
    "---\n",
    "\n",
    "### Function Scope  \n",
    "- Variables defined inside a function are local, while those outside are global.\n",
    "- **Example Template:**\n",
    "  ```python\n",
    "  x = 10  # Global variable\n",
    "  def show_scope():\n",
    "      # TODO: Demonstrate the use of a local variable inside the function\n",
    "      pass\n",
    "  ```\n",
    "  *Hint:* Observe the difference in variable scope without showing complete code.\n",
    "\n",
    "---\n",
    "\n",
    "### Nested Functions  \n",
    "- Functions can be defined inside other functions to encapsulate helper functionality.\n",
    "- **Example Template:**\n",
    "  ```python\n",
    "  def outer_function():\n",
    "      # TODO: Define an inner function to perform a helper task\n",
    "      def inner_function():\n",
    "          # TODO: Implement the inner functionality\n",
    "          pass\n",
    "      # Optionally, call inner_function and use its result\n",
    "      pass\n",
    "  ```\n",
    "  *Hint:* Use nested functions to keep helper logic localized.\n",
    "\n",
    "---\n",
    "\n",
    "### Docstrings and Annotations  \n",
    "- Use docstrings to describe what a function does and annotations to indicate expected types.\n",
    "- **Example Template:**\n",
    "  ```python\n",
    "  def concat_strings(a: str, b: str) -> str:\n",
    "      \"\"\"\n",
    "      TODO: Concatenate two strings and return the result.\n",
    "      \"\"\"\n",
    "      # TODO: Implement string concatenation\n",
    "      pass\n",
    "  ```\n",
    "  *Hint:* Include a docstring and type annotations to improve code clarity without providing the full implementation.\n"
   ]
  },
  {
   "cell_type": "markdown",
   "id": "4b0dbb33-1df0-49e0-8691-fe79e534ca8c",
   "metadata": {},
   "source": [
    "## Exercises"
   ]
  },
  {
   "cell_type": "markdown",
   "id": "6b2ea307-8da9-43f2-adb4-d7ac98cd710c",
   "metadata": {},
   "source": [
    "### Exercise 1: Basic Function Definition  \n",
    "Write a function named `greet` that prints `\"Hello, World!\"`."
   ]
  },
  {
   "cell_type": "code",
   "execution_count": null,
   "id": "a5ad22c4-4bb6-4327-b801-7b107e670f3a",
   "metadata": {},
   "outputs": [],
   "source": [
    "# Your code here"
   ]
  },
  {
   "cell_type": "markdown",
   "id": "b77bc31f-f243-46d8-ae69-7b29b1487655",
   "metadata": {},
   "source": [
    "### Exercise 2: Function with Parameters  \n",
    "Write a function named `add` that takes two parameters and returns their sum.\n"
   ]
  },
  {
   "cell_type": "code",
   "execution_count": null,
   "id": "9d4a3762-ee55-4bd0-9bbb-dbf857e1dc3a",
   "metadata": {},
   "outputs": [],
   "source": [
    "# Your code here"
   ]
  },
  {
   "cell_type": "markdown",
   "id": "9b95e587-367f-4689-b282-e0e6d9924203",
   "metadata": {},
   "source": [
    "### Exercise 3: Function with Return Value  \n",
    "Write a function named `rectangle_area` that takes two parameters, `length` and `width`, and returns the area of a rectangle.\n"
   ]
  },
  {
   "cell_type": "code",
   "execution_count": null,
   "id": "9e499ab0-6fb8-4e1a-ab5c-105b1976ba58",
   "metadata": {},
   "outputs": [],
   "source": [
    "# Your code here"
   ]
  },
  {
   "cell_type": "markdown",
   "id": "0382bf82-7060-4674-8708-3e033b54507d",
   "metadata": {},
   "source": [
    "### Exercise 4: Function with Default Arguments  \n",
    "Write a function named `greet_person` that takes an optional parameter `name` (default value `\"Guest\"`) and prints `\"Hello, <name>!\"`.\n"
   ]
  },
  {
   "cell_type": "code",
   "execution_count": null,
   "id": "e60b73fa-5727-4a55-8ccd-7b776714b741",
   "metadata": {},
   "outputs": [],
   "source": [
    "# Your code here"
   ]
  },
  {
   "cell_type": "markdown",
   "id": "f55afa25-c240-4fa7-86f3-9322ff565051",
   "metadata": {},
   "source": [
    "### Exercise 5: Function with Variable Number of Arguments  \n",
    "Write a function named `sum_all` that accepts any number of numerical arguments and returns their sum.\n"
   ]
  },
  {
   "cell_type": "code",
   "execution_count": null,
   "id": "27f6af6f-fe01-407c-88a7-e4dbede8bf59",
   "metadata": {},
   "outputs": [],
   "source": [
    "# Your code here"
   ]
  },
  {
   "cell_type": "markdown",
   "id": "ae764c25-570d-4233-b915-f7c6bbbe0147",
   "metadata": {},
   "source": [
    "### Exercise 6: Keyword Arguments  \n",
    "Write a function named `print_info` that accepts keyword arguments and prints each key with its corresponding value.\n"
   ]
  },
  {
   "cell_type": "code",
   "execution_count": null,
   "id": "5d616526-47fe-4bfe-8b57-f08dc16ab4e1",
   "metadata": {},
   "outputs": [],
   "source": [
    "# Your code here"
   ]
  },
  {
   "cell_type": "markdown",
   "id": "c5d129d5-8756-4be8-a0b6-1bba8b78467f",
   "metadata": {},
   "source": [
    "### Exercise 7: Recursion  \n",
    "Write a recursive function named `factorial` that calculates the factorial of a given non-negative integer."
   ]
  },
  {
   "cell_type": "code",
   "execution_count": null,
   "id": "5943c689-93c1-44e8-bb8a-8eb60fdf8129",
   "metadata": {},
   "outputs": [],
   "source": [
    "# Your code here"
   ]
  },
  {
   "cell_type": "markdown",
   "id": "5867438b-4249-400c-b76b-287a59c5367c",
   "metadata": {},
   "source": [
    "### Exercise 8: Function Scope  \n",
    "Write a program that demonstrates the difference between local and global variables within a function.\n"
   ]
  },
  {
   "cell_type": "code",
   "execution_count": null,
   "id": "7581d588-9647-4eb7-a3e8-4724605f533a",
   "metadata": {},
   "outputs": [],
   "source": [
    "# Your code here"
   ]
  },
  {
   "cell_type": "markdown",
   "id": "3c996ff7-3167-475b-ac6a-329b50fcf983",
   "metadata": {},
   "source": [
    "### Exercise 9: Using the Return Statement  \n",
    "Write a function named `max_in_list` that takes a list of numbers and returns the maximum number from that list.\n"
   ]
  },
  {
   "cell_type": "code",
   "execution_count": 13,
   "id": "7a70683f-eb39-44a6-8666-79946e6240d2",
   "metadata": {},
   "outputs": [],
   "source": [
    "# Your code here"
   ]
  },
  {
   "cell_type": "markdown",
   "id": "9c0df15d-35ab-4259-a77e-fc69b2464507",
   "metadata": {},
   "source": [
    "### Exercise 12: Function Annotations  \n",
    "Write a function named `concat_strings` that takes two strings (with type annotations) and returns their concatenation.\n"
   ]
  },
  {
   "cell_type": "code",
   "execution_count": null,
   "id": "d49decaf-d033-4912-bf69-04004a26d4de",
   "metadata": {},
   "outputs": [],
   "source": []
  },
  {
   "cell_type": "markdown",
   "id": "bfbfd861-b693-4bc6-9a91-b6f16b665b59",
   "metadata": {},
   "source": [
    "### Exercise 14: Using the `map()` Function with Functions  \n",
    "Write a function named `square` that returns the square of a number. Then use the `map()` function to apply `square` to a list of numbers and print the result.\n"
   ]
  },
  {
   "cell_type": "code",
   "execution_count": null,
   "id": "8639ab98-21c0-41f8-a293-86ccba89dc1e",
   "metadata": {},
   "outputs": [],
   "source": []
  }
 ],
 "metadata": {
  "kernelspec": {
   "display_name": "anaconda-panel-2023.05-py310",
   "language": "python",
   "name": "conda-env-anaconda-panel-2023.05-py310-py"
  },
  "language_info": {
   "codemirror_mode": {
    "name": "ipython",
    "version": 3
   },
   "file_extension": ".py",
   "mimetype": "text/x-python",
   "name": "python",
   "nbconvert_exporter": "python",
   "pygments_lexer": "ipython3",
   "version": "3.11.5"
  }
 },
 "nbformat": 4,
 "nbformat_minor": 5
}
