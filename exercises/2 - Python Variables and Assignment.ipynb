{
 "cells": [
  {
   "cell_type": "markdown",
   "id": "1ed71e21-b797-414e-bb70-540aeb66eb0e",
   "metadata": {},
   "source": [
    "# Python Variables and Assignment - Exercises\n",
    "\n",
    "Follow the instructions in each cell and complete the tasks. Use the `print(variable)` to display the value of your variable"
   ]
  },
  {
   "cell_type": "markdown",
   "id": "3bcff365-75f3-4703-8410-3209fe12c2d5",
   "metadata": {},
   "source": [
    "### Exercise 1: Basic Variable Assignment\n",
    "\n",
    "Assign the value 42 to a variable named `num` and print it"
   ]
  },
  {
   "cell_type": "code",
   "execution_count": null,
   "id": "d3a505e9-19d4-4408-addb-60aeda3ca084",
   "metadata": {},
   "outputs": [],
   "source": [
    "# Your code here"
   ]
  },
  {
   "cell_type": "markdown",
   "id": "1f10a2bc-eb83-41a9-bbe1-7328b49e1b8d",
   "metadata": {},
   "source": [
    "### Exercise 2: Valid Variable Names\n",
    " \n",
    "Create three valid variable names and assign them values"
   ]
  },
  {
   "cell_type": "code",
   "execution_count": null,
   "id": "7777444c-6fd6-479e-9681-bc4498235e47",
   "metadata": {},
   "outputs": [],
   "source": [
    "# Your code here"
   ]
  },
  {
   "cell_type": "markdown",
   "id": "36937021-6154-4ce1-9c23-e5d68d936f13",
   "metadata": {},
   "source": [
    "### Exercise 3: Invalid Variable Names\n",
    "\n",
    "Identify which of the following variable names are invalid and correct them\n",
    "* `123abc = 100`\n",
    "* `abc123 = 100`\n",
    "* `my_variable = 50`\n",
    "* `my-variable = \"hello\"`\n",
    "* `value = 50`\n",
    "* `$value = 50`\n"
   ]
  },
  {
   "cell_type": "code",
   "execution_count": 18,
   "id": "0317dfc7-7de4-4f12-8bc0-8ae884ceecbb",
   "metadata": {},
   "outputs": [],
   "source": [
    "# Your corrected variables here"
   ]
  },
  {
   "cell_type": "markdown",
   "id": "79eab196-5a34-4cfa-9ed1-8c4988b983fe",
   "metadata": {},
   "source": [
    "### Exercise 4: Multiple Assignment\n",
    "Assign values to three variables in a single line and print them"
   ]
  },
  {
   "cell_type": "code",
   "execution_count": 27,
   "id": "b3c905e8-736f-465d-824b-28616e2ca999",
   "metadata": {},
   "outputs": [],
   "source": [
    "# Your code here"
   ]
  },
  {
   "cell_type": "markdown",
   "id": "8ef2237c-1c45-4587-a23d-3fe9a58e5ec1",
   "metadata": {},
   "source": [
    "### Exercise 5: Swapping Variables\n",
    "Swap the values of two variables x and y without using a temporary variable"
   ]
  },
  {
   "cell_type": "code",
   "execution_count": 31,
   "id": "d5f5ea06-b164-42ad-a569-2820861bd1d7",
   "metadata": {},
   "outputs": [],
   "source": [
    "# Your code here"
   ]
  },
  {
   "cell_type": "markdown",
   "id": "17e2086d-91e7-4385-af77-b437ef838164",
   "metadata": {},
   "source": [
    "### Exercise 6: Reassigning Variables\n",
    "Assign a value to a variable, reassign it to another value, and print both before and after.\n"
   ]
  },
  {
   "cell_type": "code",
   "execution_count": null,
   "id": "d336d16d-c240-476a-87e2-091fc3ad0fb8",
   "metadata": {},
   "outputs": [],
   "source": [
    "# Your code here"
   ]
  },
  {
   "cell_type": "markdown",
   "id": "bb5741bf-7bf7-4690-b994-f9a0227a0886",
   "metadata": {},
   "source": [
    "### Exercise 7: Variable types\n",
    "\n",
    "Assign different types of values to a variable and print their types. Use `type(variable)` to see the type of a variable\n",
    "Example: Assign a number, then a string, then a float to the same variable"
   ]
  },
  {
   "cell_type": "code",
   "execution_count": 49,
   "id": "3741d632-0b05-4848-a9d8-ddd4e4ffd24b",
   "metadata": {},
   "outputs": [],
   "source": [
    "# Your code here"
   ]
  }
 ],
 "metadata": {
  "kernelspec": {
   "display_name": "anaconda-panel-2023.05-py310",
   "language": "python",
   "name": "conda-env-anaconda-panel-2023.05-py310-py"
  },
  "language_info": {
   "codemirror_mode": {
    "name": "ipython",
    "version": 3
   },
   "file_extension": ".py",
   "mimetype": "text/x-python",
   "name": "python",
   "nbconvert_exporter": "python",
   "pygments_lexer": "ipython3",
   "version": "3.11.5"
  }
 },
 "nbformat": 4,
 "nbformat_minor": 5
}
