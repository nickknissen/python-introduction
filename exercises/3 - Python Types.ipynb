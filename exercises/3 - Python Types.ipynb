{
 "cells": [
  {
   "cell_type": "markdown",
   "id": "758f7d5c-9143-4685-a3d6-e1ad78706163",
   "metadata": {},
   "source": [
    "# Python Types - Exercises\n",
    "\n",
    "Follow the instructions in each cell and complete the tasks. Use the `type(variable)` to display the type of your variable.  \n",
    "Use `int(variable)`, `str(variable)`, `bool(variable)`, `float(variable)` to convert basic types to other data types.\n"
   ]
  },
  {
   "cell_type": "markdown",
   "id": "ab64e272-4d28-4975-9ca7-3f80c87a3ab6",
   "metadata": {},
   "source": [
    "### Exercise 1: Identify the Data Types\n",
    "\n",
    "Use the type() function to check and print the types of the following variables. Ex. `type(variable)`"
   ]
  },
  {
   "cell_type": "code",
   "execution_count": null,
   "id": "c1851ae8-f500-4815-a0be-d159a16c7a66",
   "metadata": {},
   "outputs": [],
   "source": [
    "x = 42\n",
    "y = 3.14\n",
    "z = \"Hello\"\n",
    "a = True\n",
    "b = None"
   ]
  },
  {
   "cell_type": "code",
   "execution_count": null,
   "id": "9fadb964-4dcb-45ce-b150-8ce3af8d4a0d",
   "metadata": {},
   "outputs": [],
   "source": [
    "# Your code here"
   ]
  },
  {
   "cell_type": "markdown",
   "id": "8cc2b093-7ab1-41d6-8c79-d1c88f310b15",
   "metadata": {},
   "source": [
    "### Exercise 2: Correct the TypeError in String Concatenation\n",
    "\n",
    "The following code throws an error. Modify it to work correctly.\n",
    "\n",
    "**Expected Output:**\n",
    "\"Hello, my name is Alice and I am 25 years old.\""
   ]
  },
  {
   "cell_type": "code",
   "execution_count": null,
   "id": "817c08a3-af12-46fa-8c89-606a0be4e4ac",
   "metadata": {},
   "outputs": [],
   "source": [
    "name = \"Alice\"\n",
    "age = 25\n",
    "\n",
    "message = \"Hello, my name is \" + name + \" and I am \" + age + \" years old.\"\n",
    "\n",
    "print(message)"
   ]
  },
  {
   "cell_type": "markdown",
   "id": "f4e7561e-d207-4513-8b1d-8d891505eb23",
   "metadata": {},
   "source": [
    "### Exercise 3: Convert Data Types Correctly\n",
    "Convert the variables into the correct type to perform the operation successfully."
   ]
  },
  {
   "cell_type": "code",
   "execution_count": null,
   "id": "52b84de4-e3bc-46cc-bf35-ba9bb51dff68",
   "metadata": {},
   "outputs": [],
   "source": [
    "num1 = \"100\"\n",
    "num2 = 50\n",
    "\n",
    "# Convert num1 so that this operation works and the result becomes 150\n",
    "result = num1 + num2\n",
    "\n",
    "print(\"The result is:\", result)"
   ]
  },
  {
   "cell_type": "markdown",
   "id": "c8f33404-99cf-4b97-b56d-bf70889f5188",
   "metadata": {},
   "source": [
    "### Exercise 4: Avoid Implicit Type Errors\n",
    "Predict whether the following code will work without errors. If not, fix it.\n",
    "\n",
    "**Expected Output**:\n",
    "The program should output Total cost: 29.97 without errors."
   ]
  },
  {
   "cell_type": "code",
   "execution_count": null,
   "id": "ff3cbe4b-88ce-4c47-ae9d-d9ee9f20a430",
   "metadata": {},
   "outputs": [],
   "source": [
    "price = 9.99\n",
    "quantity = \"3\"\n",
    "\n",
    "total_cost = price * quantity\n",
    "\n",
    "print(\"Total cost:\", total_cost)"
   ]
  },
  {
   "cell_type": "markdown",
   "id": "0b38379d-f158-4d16-8c85-28b58f9fe3ea",
   "metadata": {},
   "source": [
    "### Exercise 5: Cast a String to an Integer\n",
    "\n",
    "You have a string representing a number. Cast it into an integer to perform a additon."
   ]
  },
  {
   "cell_type": "code",
   "execution_count": 17,
   "id": "240808e5-ab2e-44f2-905d-0b8161fd99be",
   "metadata": {},
   "outputs": [],
   "source": [
    "str_number = \"123\"\n",
    "\n",
    "result = 10 + str_number\n",
    "\n",
    "print(\"The result is:\", result)"
   ]
  },
  {
   "cell_type": "markdown",
   "id": "c9e04fe1-cd74-4601-9d09-a5616a77620c",
   "metadata": {},
   "source": [
    "### Exercise 6: Cast a Float to an Integer\n",
    "\n",
    "Cast a float to an integer and observe the result."
   ]
  },
  {
   "cell_type": "code",
   "execution_count": null,
   "id": "583ab4d6-b92e-4194-90f8-8cfd0f0af715",
   "metadata": {},
   "outputs": [],
   "source": [
    "float_value = 9.99\n",
    "\n",
    "result = float_value\n",
    "\n",
    "print(\"The result is:\", result)"
   ]
  },
  {
   "cell_type": "markdown",
   "id": "a9a52e3a-b555-4f2f-88df-740d7018a4d0",
   "metadata": {},
   "source": [
    "### Exercise 7: Convert Integer to Float\n",
    "Cast an integer into a floating-point number and perform a division."
   ]
  },
  {
   "cell_type": "code",
   "execution_count": null,
   "id": "96fe0856-1cbf-41ba-8f39-0f936682138b",
   "metadata": {},
   "outputs": [],
   "source": [
    "int_value = 7\n",
    "\n",
    "result = int_value / 2\n",
    "\n",
    "print(\"The result is:\", result)"
   ]
  }
 ],
 "metadata": {
  "kernelspec": {
   "display_name": "anaconda-panel-2023.05-py310",
   "language": "python",
   "name": "conda-env-anaconda-panel-2023.05-py310-py"
  },
  "language_info": {
   "codemirror_mode": {
    "name": "ipython",
    "version": 3
   },
   "file_extension": ".py",
   "mimetype": "text/x-python",
   "name": "python",
   "nbconvert_exporter": "python",
   "pygments_lexer": "ipython3",
   "version": "3.11.5"
  }
 },
 "nbformat": 4,
 "nbformat_minor": 5
}
