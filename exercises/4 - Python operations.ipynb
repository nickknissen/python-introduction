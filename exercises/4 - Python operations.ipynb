{
 "cells": [
  {
   "cell_type": "markdown",
   "id": "2b0618eb-d948-425f-9717-aef06edcd028",
   "metadata": {
    "jp-MarkdownHeadingCollapsed": true
   },
   "source": [
    "## Arithmetic operations"
   ]
  },
  {
   "cell_type": "markdown",
   "id": "bf831bf1-c3da-4ac4-8ce3-839e96f425e8",
   "metadata": {},
   "source": [
    "Python supports a range of different arithmetical operators:\n",
    "| Symbol | Task Performed | Example | Result|\n",
    "|----|---|---|---|\n",
    "| +  | Addition | 4 + 3 | 7 |\n",
    "| -  | Subtraction | 4 - 3 | 1 |\n",
    "| /  | Division | 7 / 2 | 3.5 |\n",
    "| %  | Mod | 7 % 2 | 1 |\n",
    "| *  | Multiplication | 4 * 3 | 12 |\n",
    "| //  | Floor division | 7 // 2 | 3 |\n",
    "| **  | Power of | 7 ** 2 | 49 |"
   ]
  },
  {
   "cell_type": "markdown",
   "id": "67942721-9b74-4a6e-af89-74f8973192fd",
   "metadata": {
    "jp-MarkdownHeadingCollapsed": true
   },
   "source": [
    "## Python comparison operators"
   ]
  },
  {
   "cell_type": "markdown",
   "id": "ba064c37-8321-4a02-92e5-fbe15148cd7c",
   "metadata": {},
   "source": [
    "| Operator | Description   | Example         | Result |\n",
    "|----------|------------------------------------|-----------------|--------|\n",
    "| `==`     | Equal to                           | `x == y`        | True if `x` is equal to `y` |\n",
    "| `!=`     | Not equal to                       | `x != y`        | True if `x` is not equal to `y` |\n",
    "| `>`      | Greater than                       | `x > y`         | True if `x` is greater than `y` |\n",
    "| `<`      | Less than                          | `x < y`         | True if `x` is less than `y` |\n",
    "| `>=`     | Greater than or equal to           | `x >= y`        | True if `x` is greater than or equal to `y` |\n",
    "| `<=`     | Less than or equal to              | `x <= y`        | True if `x` is less than or equal to `y` |"
   ]
  },
  {
   "cell_type": "markdown",
   "id": "f55640b0-2f77-4e55-b642-b2e6939f52a5",
   "metadata": {
    "jp-MarkdownHeadingCollapsed": true
   },
   "source": [
    "## Logical operators"
   ]
  },
  {
   "cell_type": "markdown",
   "id": "9987ddbc-354b-4533-ab38-1f33a309d009",
   "metadata": {},
   "source": [
    "| Operator | Description                          | Example            | Result |\n",
    "|----------|--------------------------------------|--------------------|--------|\n",
    "| `and`    | Returns True if both operands are True | `x and y`          | True if both `x` and `y` are True |\n",
    "| `or`     | Returns True if at least one operand is True | `x or y`         | True if either `x` or `y` is True |\n",
    "| `not`    | Returns True if the operand is False | `not x`            | True if `x` is False |\n"
   ]
  },
  {
   "cell_type": "markdown",
   "id": "87bbcb9a-6e34-406f-814b-3f2ca2a80d29",
   "metadata": {},
   "source": [
    "## Exercises"
   ]
  },
  {
   "cell_type": "markdown",
   "id": "8d5b538c-1375-4074-9d63-9dc2b098c9ff",
   "metadata": {
    "jp-MarkdownHeadingCollapsed": true
   },
   "source": [
    "### Exercise 1: Arithmetic Operations - Addition and Subtraction\n",
    "Create two variables `x = 10` and `y = 5`. Perform the following:  \n",
    "* Add x and y. Print the result.\n",
    "* Subtract y from x. Print the result."
   ]
  },
  {
   "cell_type": "code",
   "execution_count": null,
   "id": "93276cf8-a9bd-4dbe-85bd-4c210e9ccfbc",
   "metadata": {},
   "outputs": [],
   "source": [
    "# your code here"
   ]
  },
  {
   "cell_type": "markdown",
   "id": "e4226091-776b-4bff-a360-14fff97adf56",
   "metadata": {
    "jp-MarkdownHeadingCollapsed": true
   },
   "source": [
    "### Exercise 2: Comparison Operators - Equal to and Not Equal to\n",
    "\n",
    "Create two variables a = 10 and b = 15. Use comparison operators:\n",
    "* Check if a is equal to b and print the result.\n",
    "* Check if a is not equal to b and print the result."
   ]
  },
  {
   "cell_type": "code",
   "execution_count": 23,
   "id": "bb728df4-ccd1-4318-8613-8d733724a3d2",
   "metadata": {},
   "outputs": [],
   "source": [
    "# your code here"
   ]
  },
  {
   "cell_type": "markdown",
   "id": "72de5bae-f420-4f80-8151-34dc75a71d05",
   "metadata": {
    "jp-MarkdownHeadingCollapsed": true
   },
   "source": [
    "### Exercise 3: Logical Operators - AND, OR, NOT\n",
    "Create two variables x = 5 and y = 10. Use logical operators:\n",
    "\n",
    "* Check if x is greater than 2 and y is less than 20. Print the result.\n",
    "* Check if x is less than 3 or y is greater than 5. Print the result.\n",
    "* Use not to check if x is equal to 5 and print the result.\n"
   ]
  },
  {
   "cell_type": "markdown",
   "id": "235059c9-2b9c-45d7-96b6-fc7c2783646f",
   "metadata": {},
   "source": [
    "### Exercise 4: Combining Arithmetic and Comparison - Basic Calculation\n",
    "Create two variables x = 15 and y = 7. Perform the following:\n",
    "\n",
    "* Add x and y, and check if the result is greater than 20 using the comparison operator."
   ]
  },
  {
   "cell_type": "code",
   "execution_count": null,
   "id": "c205187e-1bf3-4d90-871d-b24f434ec8af",
   "metadata": {},
   "outputs": [],
   "source": [
    "# your code here"
   ]
  },
  {
   "cell_type": "markdown",
   "id": "40b1c07c-3761-4246-8f11-f624b3e13533",
   "metadata": {},
   "source": [
    "### Exercise 5: Combining Arithmetic and Comparison - Floor Division\n",
    "Create two variables a = 25 and b = 4. Perform the following:\n",
    "\n",
    "* Calculate `a // b` (floor division) and check if the result is greater than 5."
   ]
  },
  {
   "cell_type": "code",
   "execution_count": null,
   "id": "8c454c42-f759-4b0a-bd32-49763efaeb66",
   "metadata": {},
   "outputs": [],
   "source": [
    "# your code here"
   ]
  },
  {
   "cell_type": "markdown",
   "id": "d98f2687-b3f4-4b75-8e31-179ef9f15276",
   "metadata": {},
   "source": [
    "### Exercise 6: Combining Arithmetic and Logical - Even or Odd\n",
    "Create a variable x = 18. Perform the following:\n",
    "\n",
    "* Check if x is divisible by 2 (use modulus %).\n",
    "* Use a logical operator to check if x is even and greater than 10."
   ]
  },
  {
   "cell_type": "code",
   "execution_count": null,
   "id": "ba08a7b0-3b1f-4a68-b213-01aed550fec4",
   "metadata": {},
   "outputs": [],
   "source": [
    "# your code here"
   ]
  },
  {
   "cell_type": "markdown",
   "id": "126e29a8-efbe-42f0-9f57-c3321f24aafc",
   "metadata": {},
   "source": [
    "## Exercise 7: Combining Comparison and Logical - AND, OR\n",
    "Create variables x = 12 and y = 6. Use logical operators to check:\n",
    "\n",
    "* If x is greater than y and x is not equal to 15.\n",
    "* If x is less than or equal to 20 or y is greater than 5."
   ]
  },
  {
   "cell_type": "code",
   "execution_count": null,
   "id": "8611ab3a-6bf4-4a46-93c2-29f89949734b",
   "metadata": {},
   "outputs": [],
   "source": [
    "# your code here"
   ]
  },
  {
   "cell_type": "markdown",
   "id": "f8a7e6ce-5166-43b0-a6d5-8645db56e6ba",
   "metadata": {},
   "source": [
    "### Exercise 8: Combining Arithmetic, Comparison, and Logical - Complex Condition\n",
    "Create variables x = 20, y = 15, and z = 5. Use comparison and logical operators:\n",
    "\n",
    "* Check if x + y is greater than z ** 2 and if y - z is greater than 5.\n"
   ]
  },
  {
   "cell_type": "code",
   "execution_count": null,
   "id": "4228fc0e-0925-4457-a90f-d8b176a5aa02",
   "metadata": {},
   "outputs": [],
   "source": [
    "# your code here"
   ]
  }
 ],
 "metadata": {
  "kernelspec": {
   "display_name": "anaconda-panel-2023.05-py310",
   "language": "python",
   "name": "conda-env-anaconda-panel-2023.05-py310-py"
  },
  "language_info": {
   "codemirror_mode": {
    "name": "ipython",
    "version": 3
   },
   "file_extension": ".py",
   "mimetype": "text/x-python",
   "name": "python",
   "nbconvert_exporter": "python",
   "pygments_lexer": "ipython3",
   "version": "3.11.5"
  }
 },
 "nbformat": 4,
 "nbformat_minor": 5
}
