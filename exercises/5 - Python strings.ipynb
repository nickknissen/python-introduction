{
 "cells": [
  {
   "cell_type": "markdown",
   "id": "c54c241d-aa84-4f4c-bbea-ccde0e159443",
   "metadata": {},
   "source": [
    "# Python Strings"
   ]
  },
  {
   "cell_type": "markdown",
   "id": "8d6ff56e-1f3c-4231-b5b0-ffcd172e11ce",
   "metadata": {
    "jp-MarkdownHeadingCollapsed": true
   },
   "source": [
    "## Available methods on a string"
   ]
  },
  {
   "cell_type": "markdown",
   "id": "f5f1d592-8359-4c5b-a5db-b91cb74153de",
   "metadata": {},
   "source": [
    "### **Case Manipulation**\n",
    "- `str.upper()` → Converts all characters to uppercase.\n",
    "- `str.lower()` → Converts all characters to lowercase.\n",
    "- `str.capitalize()` → Capitalizes the first letter of the string.\n",
    "- `str.title()` → Capitalizes the first letter of each word.\n",
    "- `str.swapcase()` → Swaps uppercase letters to lowercase and vice versa.\n",
    "\n",
    "### **Searching & Checking**\n",
    "- `str.find(substring)` → Returns the index of the first occurrence of a substring (or `-1` if not found).\n",
    "- `str.index(substring)` → Returns the index of the first occurrence (raises an error if not found).\n",
    "- `str.rfind(substring)` → Returns the last occurrence of a substring.\n",
    "- `str.rindex(substring)` → Returns the last occurrence (raises an error if not found).\n",
    "- `str.count(substring)` → Counts occurrences of a substring.\n",
    "- `str.startswith(substring)` → Returns `True` if the string starts with the given substring.\n",
    "- `str.endswith(substring)` → Returns `True` if the string ends with the given substring.\n",
    "\n",
    "### **Modification & Replacement**\n",
    "- `str.replace(old, new)` → Replaces occurrences of `old` with `new`.\n",
    "- `str.strip()` → Removes leading and trailing whitespace.\n",
    "- `str.lstrip()` → Removes leading whitespace.\n",
    "- `str.rstrip()` → Removes trailing whitespace.\n",
    "\n",
    "### **Splitting & Joining**\n",
    "- `str.split(separator)` → Splits the string into a list based on `separator`.\n",
    "- `str.rsplit(separator)` → Splits from the right.\n",
    "- `str.splitlines()` → Splits a multiline string into a list of lines.\n",
    "- `str.join(iterable)` → Joins elements of an iterable with the string as a separator.\n",
    "\n",
    "### **Alignment & Formatting**\n",
    "- `str.center(width, fillchar)` → Centers text within `width` using `fillchar`.\n",
    "- `str.ljust(width, fillchar)` → Left-aligns text within `width` using `fillchar`.\n",
    "- `str.rjust(width, fillchar)` → Right-aligns text within `width` using `fillchar`.\n",
    "- `str.zfill(width)` → Pads the string with leading zeros until it reaches `width`.\n",
    "\n",
    "### **Character Type Checking**\n",
    "- `str.isalpha()` → Returns `True` if all characters are letters.\n",
    "- `str.isdigit()` → Returns `True` if all characters are digits.\n",
    "- `str.isalnum()` → Returns `True` if all characters are letters or digits.\n",
    "- `str.isspace()` → Returns `True` if the string consists only of whitespace.\n",
    "- `str.islower()` → Returns `True` if all letters are lowercase.\n",
    "- `str.isupper()` → Returns `True` if all letters are uppercase.\n",
    "- `str.istitle()` → Returns `True` if the string follows title case.\n",
    "- `str.isnumeric()` → Returns `True` if the string consists only of numeric characters.\n",
    "- `str.isdecimal()` → Returns `True` if the string consists only of decimal numbers.\n",
    "\n",
    "### **Encoding & Decoding**\n",
    "- `str.encode(encoding)` → Encodes the string using the specified encoding.\n",
    "- `str.decode(encoding)` → Decodes a previously encoded string (only applies to bytes objects)."
   ]
  },
  {
   "cell_type": "markdown",
   "id": "55f9f9c1-d986-46c0-b4e1-a53cf5645543",
   "metadata": {},
   "source": [
    "## Exercises"
   ]
  },
  {
   "cell_type": "markdown",
   "id": "8a9cb9cd-d6c2-49d2-9e41-b00be9ccd2e5",
   "metadata": {},
   "source": [
    "### Exercise 1: Basic String Concatenation\n",
    "Concatenate first_name and last_name with a space between them"
   ]
  },
  {
   "cell_type": "code",
   "execution_count": null,
   "id": "9a90fced-96b4-4ada-b4d0-e4fc29daba88",
   "metadata": {},
   "outputs": [],
   "source": [
    "first_name = \"Peter\"\n",
    "last_name = \"Parker\""
   ]
  },
  {
   "cell_type": "code",
   "execution_count": null,
   "id": "88799fa0-89f9-4f66-8f19-2516e08e6a18",
   "metadata": {},
   "outputs": [],
   "source": [
    "# Your code here"
   ]
  },
  {
   "cell_type": "markdown",
   "id": "240af31b-c11e-4ac4-9da3-cbff57563644",
   "metadata": {},
   "source": [
    "### Exercise 2: String Methods - Upper\n",
    "Convert the string variable to uppercase"
   ]
  },
  {
   "cell_type": "code",
   "execution_count": null,
   "id": "dc225e99-e672-4825-890a-5f90dcbce0e0",
   "metadata": {},
   "outputs": [],
   "source": [
    "shout = \"hello anybody there\""
   ]
  },
  {
   "cell_type": "code",
   "execution_count": null,
   "id": "4710428d-3bbd-4ee7-b804-c1d54114e667",
   "metadata": {},
   "outputs": [],
   "source": [
    "# your code here\n"
   ]
  },
  {
   "cell_type": "markdown",
   "id": "7a7fe0d6-4a4b-4e78-879b-1b4c2a9600d6",
   "metadata": {},
   "source": [
    "### Exercise 4: String Methods - Lower\n",
    "Convert the string variable to lowercase"
   ]
  },
  {
   "cell_type": "code",
   "execution_count": null,
   "id": "06b8fd88-cd32-48da-95c2-7445b1dd3fd3",
   "metadata": {},
   "outputs": [],
   "source": [
    "whisper = \"be quiet\""
   ]
  },
  {
   "cell_type": "code",
   "execution_count": null,
   "id": "fe0d962f-8fe1-4e3a-a7f1-104620f27fa3",
   "metadata": {},
   "outputs": [],
   "source": [
    "# your code here"
   ]
  },
  {
   "cell_type": "markdown",
   "id": "1ee26477-f69b-4860-98ce-9e088337e322",
   "metadata": {},
   "source": [
    "### Exercise 5: String Methods - Replace\n",
    "Replace SQL with Python"
   ]
  },
  {
   "cell_type": "code",
   "execution_count": null,
   "id": "08a52378-6f3e-40f1-9877-5127f9c06dac",
   "metadata": {},
   "outputs": [],
   "source": [
    "sentence = \"I love SQL!\""
   ]
  },
  {
   "cell_type": "code",
   "execution_count": null,
   "id": "6c48a969-5e87-4032-8ded-ca73dcc446d5",
   "metadata": {},
   "outputs": [],
   "source": [
    "# your code here"
   ]
  },
  {
   "cell_type": "markdown",
   "id": "0a100537-f2b7-431e-94d6-35265c0df727",
   "metadata": {},
   "source": [
    "### Exercise 5: String Methods - Strip\n",
    "Remove the leading and trailing spaces print the sentece."
   ]
  },
  {
   "cell_type": "code",
   "execution_count": 4,
   "id": "1730d9cf-ea86-4a0a-8b0f-dbab190a1033",
   "metadata": {},
   "outputs": [],
   "source": [
    "data = \"   Clean me up!   \""
   ]
  },
  {
   "cell_type": "code",
   "execution_count": null,
   "id": "d1d421ba-4efd-4266-b245-d2fb3a5db4ed",
   "metadata": {},
   "outputs": [],
   "source": [
    "# your code here"
   ]
  },
  {
   "cell_type": "markdown",
   "id": "d4050d8c-2245-4adc-ac03-754060ea4c97",
   "metadata": {},
   "source": [
    "### Exercise 5: Python Strings methods\n",
    "\n",
    "Try calling `dir()` on a string variable and see what methods is available.\n",
    "Note that `dir` will return many methods like `__ne__` which are private methods and cannot be called directly. "
   ]
  },
  {
   "cell_type": "code",
   "execution_count": null,
   "id": "18b04c57-550a-4bec-9dbc-088bbee40ad7",
   "metadata": {},
   "outputs": [],
   "source": [
    "# your code here"
   ]
  },
  {
   "cell_type": "markdown",
   "id": "58698af0-6b2e-4172-979a-2fbec19bb85b",
   "metadata": {},
   "source": [
    "### Exercise 6: Multiline String Creation\n",
    "Create a multiline string containing cristmas tree ASICC art.\n",
    "\n",
    "Expected result:\n",
    "```text\n",
    "  *\n",
    " ***\n",
    "*****\n",
    "  |\n",
    "```\n"
   ]
  },
  {
   "cell_type": "code",
   "execution_count": null,
   "id": "cb926aff-ea85-480a-b05f-d3e7c2281466",
   "metadata": {},
   "outputs": [],
   "source": [
    "#your code here"
   ]
  },
  {
   "cell_type": "markdown",
   "id": "1e574de3-bf7c-44fd-8fb3-4bad6a588116",
   "metadata": {},
   "source": [
    "## Exercise 8: Python Strings - Multiline String - String Manipulation\n",
    "Create a multiline string address = \"\"\"1234 Elm Street Springfield, IL 62704\"\"\". Perform the following:\n",
    "\n",
    "* Print the entire address.\n",
    "* Split the address into two lines and print each separately."
   ]
  },
  {
   "cell_type": "code",
   "execution_count": null,
   "id": "678f3d05-1f85-45c8-b5c6-3f90a3e0d4c8",
   "metadata": {},
   "outputs": [],
   "source": [
    "#your code here"
   ]
  },
  {
   "cell_type": "markdown",
   "id": "2f2f5edd-59fd-4aa6-b089-24c073ee7e87",
   "metadata": {},
   "source": [
    "### Exercise 10: Python Strings - Placeholders - f-strings\n",
    "Create two variables city = \"New York\" and country = \"USA\". Use an f-string to:\n",
    "\n",
    "Print \"I live in New York, USA.\"."
   ]
  },
  {
   "cell_type": "code",
   "execution_count": null,
   "id": "e8b3c4ca-fd74-4289-93c1-5b93e3214e2b",
   "metadata": {},
   "outputs": [],
   "source": [
    "#your code here"
   ]
  }
 ],
 "metadata": {
  "kernelspec": {
   "display_name": "anaconda-panel-2023.05-py310",
   "language": "python",
   "name": "conda-env-anaconda-panel-2023.05-py310-py"
  },
  "language_info": {
   "codemirror_mode": {
    "name": "ipython",
    "version": 3
   },
   "file_extension": ".py",
   "mimetype": "text/x-python",
   "name": "python",
   "nbconvert_exporter": "python",
   "pygments_lexer": "ipython3",
   "version": "3.11.5"
  }
 },
 "nbformat": 4,
 "nbformat_minor": 5
}
