{
 "cells": [
  {
   "cell_type": "markdown",
   "id": "22d7d68b-fa0b-454f-aa5f-a865674016f6",
   "metadata": {},
   "source": [
    "# Python Data Structures - Lists\n",
    "\n",
    "Use pythons [data structure documentation](https://docs.python.org/3/tutorial/datastructures.html) for references on methods available on a list"
   ]
  },
  {
   "cell_type": "markdown",
   "id": "56a54c48-987d-45f1-b6a5-b36cfa467136",
   "metadata": {
    "jp-MarkdownHeadingCollapsed": true
   },
   "source": [
    "### Hints"
   ]
  },
  {
   "cell_type": "markdown",
   "id": "2f1253f6-46d1-484d-a591-f600d5e8042f",
   "metadata": {},
   "source": [
    "#### Creating a List\n",
    "A list is created using square brackets `[]` and can store multiple values:\n",
    "\n",
    "```python\n",
    "fruits = [\"apple\", \"banana\", \"cherry\"]\n",
    "numbers = [1, 2, 3, 4, 5]\n",
    "mixed = [\"hello\", 42, 3.14, True]\n",
    "```\n",
    "\n",
    "---\n",
    "\n",
    "#### Accessing Elements\n",
    "You can access elements using **indexing** (starting at 0) or **negative indexing**:\n",
    "\n",
    "```python\n",
    "print(fruits[0])  # First element: \"apple\"\n",
    "print(fruits[-1]) # Last element: \"cherry\"\n",
    "```\n",
    "\n",
    "---\n",
    "\n",
    "#### Modifying Lists\n",
    "Lists are **mutable**, meaning you can change elements:\n",
    "\n",
    "```python\n",
    "fruits[1] = \"blueberry\"  # Changes \"banana\" to \"blueberry\"\n",
    "```\n",
    "\n",
    "---\n",
    "\n",
    "#### Adding Elements\n",
    "You can add elements using:\n",
    "- `append()` → Adds to the end of the list\n",
    "- `insert(index, value)` → Adds at a specific position\n",
    "\n",
    "```python\n",
    "fruits.append(\"mango\")     # [\"apple\", \"blueberry\", \"cherry\", \"mango\"]\n",
    "fruits.insert(1, \"grape\")  # [\"apple\", \"grape\", \"blueberry\", \"cherry\", \"mango\"]\n",
    "```\n",
    "\n",
    "---\n",
    "\n",
    "#### Removing Elements\n",
    "You can remove elements using:\n",
    "- `remove(value)` → Removes the first occurrence of the value\n",
    "- `pop(index)` → Removes and returns an item at a given index (default is the last one)\n",
    "\n",
    "```python\n",
    "fruits.remove(\"apple\")  # Removes \"apple\"\n",
    "fruits.pop()            # Removes the last element\n",
    "```\n",
    "\n",
    "---\n",
    "\n",
    "#### Slicing Lists\n",
    "You can extract a **sub-list** using slicing:\n",
    "\n",
    "```python\n",
    "numbers = [10, 20, 30, 40, 50, 60]\n",
    "print(numbers[:3])   # First three elements [10, 20, 30]\n",
    "print(numbers[-3:])  # Last three elements [40, 50, 60]\n",
    "print(numbers[::2])  # Every second element [10, 30, 50]\n",
    "```\n",
    "\n",
    "---\n",
    "\n",
    "#### Checking if an Item Exists\n",
    "Use `in` to check for an element in a list:\n",
    "\n",
    "```python\n",
    "if \"mango\" in fruits:\n",
    "    print(\"Mango is in the list\")\n",
    "```\n",
    "\n",
    "---\n",
    "\n",
    "#### Finding the Length of a List\n",
    "Use `len()` to get the number of elements:\n",
    "\n",
    "```python\n",
    "print(len(fruits))  # Outputs the number of items in the list\n",
    "```\n",
    "\n",
    "---\n",
    "\n",
    "#### Sorting a List\n",
    "You can sort lists in ascending or descending order:\n",
    "\n",
    "```python\n",
    "numbers.sort()  # Sorts the list in ascending order\n",
    "numbers.sort(reverse=True)  # Sorts in descending order\n",
    "```\n",
    "\n",
    "---\n",
    "\n",
    "#### Reversing a List\n",
    "Use `reverse()` to flip the list:\n",
    "\n",
    "```python\n",
    "fruits.reverse()\n",
    "```\n",
    "\n",
    "---\n",
    "\n",
    "#### Copying a List\n",
    "Use `copy()` to create a duplicate list:\n",
    "\n",
    "```python\n",
    "new_fruits = fruits.copy()\n",
    "```\n",
    "\n",
    "---\n",
    "\n",
    "#### Combining Lists\n",
    "You can merge two lists using `+` or `extend()`:\n",
    "\n",
    "```python\n",
    "list1 = [1, 2, 3]\n",
    "list2 = [4, 5, 6]\n",
    "combined = list1 + list2\n",
    "list1.extend(list2)\n",
    "```\n",
    "\n",
    "---\n",
    "\n",
    "#### List Comprehension\n",
    "A **shortcut** to create lists dynamically:\n",
    "\n",
    "```python\n",
    "squared = [x**2 for x in range(1, 6)]  # [1, 4, 9, 16, 25]\n",
    "```\n",
    "\n",
    "---\n",
    "\n",
    "#### Removing Duplicates\n",
    "Convert a list to a **set** and back:\n",
    "\n",
    "```python\n",
    "unique_numbers = list(set([1, 2, 2, 3, 4, 4, 5]))\n",
    "```\n",
    "\n",
    "---\n",
    "\n",
    "#### Nested Lists\n",
    "A list can contain other lists:\n",
    "\n",
    "```python\n",
    "matrix = [[1, 2, 3], [4, 5, 6], [7, 8, 9]]\n",
    "print(matrix[1])    # Second row: [4, 5, 6]\n",
    "print(matrix[2][1]) # Element 6\n",
    "```"
   ]
  },
  {
   "cell_type": "markdown",
   "id": "6b2ea307-8da9-43f2-adb4-d7ac98cd710c",
   "metadata": {},
   "source": [
    "### Exercise 1: Creating a List\n",
    "Create a list called fruits containing \"apple\", \"banana\", and \"cherry\" and print the list."
   ]
  },
  {
   "cell_type": "code",
   "execution_count": 10,
   "id": "a5ad22c4-4bb6-4327-b801-7b107e670f3a",
   "metadata": {},
   "outputs": [],
   "source": [
    "# Your code here"
   ]
  },
  {
   "cell_type": "markdown",
   "id": "b77bc31f-f243-46d8-ae69-7b29b1487655",
   "metadata": {},
   "source": [
    "### Exercise 2: Accessing List Elements  \n",
    "Using the `fruits` list from Exercise 1:  \n",
    "- Print the **first** element.  \n",
    "- Print the **last** element using negative indexing.  "
   ]
  },
  {
   "cell_type": "code",
   "execution_count": null,
   "id": "9d4a3762-ee55-4bd0-9bbb-dbf857e1dc3a",
   "metadata": {},
   "outputs": [],
   "source": [
    "# Your code here"
   ]
  },
  {
   "cell_type": "markdown",
   "id": "9b95e587-367f-4689-b282-e0e6d9924203",
   "metadata": {},
   "source": [
    "### Exercise 3: Modifying a List  \n",
    "Modify the `fruits` list by:  \n",
    "- Changing `\"banana\"` to `\"blueberry\"`.  \n",
    "- Print the updated list.  "
   ]
  },
  {
   "cell_type": "code",
   "execution_count": 17,
   "id": "9e499ab0-6fb8-4e1a-ab5c-105b1976ba58",
   "metadata": {},
   "outputs": [],
   "source": [
    "# Your code here"
   ]
  },
  {
   "cell_type": "markdown",
   "id": "0382bf82-7060-4674-8708-3e033b54507d",
   "metadata": {},
   "source": [
    "### Exercise 4: Adding Elements to a List  \n",
    "Using `fruits`:  \n",
    "- Add `\"mango\"` at the **end** of the list.  \n",
    "- Add `\"grape\"` at **index 1**.  \n",
    "- Print the list.  "
   ]
  },
  {
   "cell_type": "code",
   "execution_count": null,
   "id": "e60b73fa-5727-4a55-8ccd-7b776714b741",
   "metadata": {},
   "outputs": [],
   "source": [
    "# Your code here"
   ]
  },
  {
   "cell_type": "markdown",
   "id": "f55afa25-c240-4fa7-86f3-9322ff565051",
   "metadata": {},
   "source": [
    "### Exercise 5: Removing Elements from a List  \n",
    "Using `fruits`:  \n",
    "- Remove `\"apple\"` using `remove()`.  \n",
    "- Remove the last element using `pop()`.  \n",
    "- Print the list.  "
   ]
  },
  {
   "cell_type": "code",
   "execution_count": null,
   "id": "27f6af6f-fe01-407c-88a7-e4dbede8bf59",
   "metadata": {},
   "outputs": [],
   "source": [
    "# Your code here"
   ]
  },
  {
   "cell_type": "markdown",
   "id": "2ed14cb4-7003-4460-8dfa-88db8f2c2fff",
   "metadata": {},
   "source": [
    "### Exercise 6: Slicing a List  \n",
    "Using `numbers = [10, 20, 30, 40, 50, 60, 70]`:  \n",
    "- Print the **first 3 elements**.  \n",
    "- Print the **last 3 elements**.  \n",
    "- Print **every other element**. "
   ]
  },
  {
   "cell_type": "code",
   "execution_count": null,
   "id": "ea2df86e-28d3-41c1-ab34-e0364222d692",
   "metadata": {},
   "outputs": [],
   "source": [
    "# Your code here"
   ]
  },
  {
   "cell_type": "markdown",
   "id": "ae764c25-570d-4233-b915-f7c6bbbe0147",
   "metadata": {},
   "source": [
    "### Exercise 7: Checking if an Item Exists in a List  \n",
    "Using `fruits`:  \n",
    "- Check if `\"mango\"` is in the list using `in`.  \n",
    "- Check if `\"orange\"` is in the list.  "
   ]
  },
  {
   "cell_type": "code",
   "execution_count": null,
   "id": "5d616526-47fe-4bfe-8b57-f08dc16ab4e1",
   "metadata": {},
   "outputs": [],
   "source": [
    "# Your code here"
   ]
  },
  {
   "cell_type": "markdown",
   "id": "c5d129d5-8756-4be8-a0b6-1bba8b78467f",
   "metadata": {},
   "source": [
    "### Exercise 8: Finding the Length of a List  \n",
    "Using `numbers = [5, 10, 15, 20, 25, 30]`:  \n",
    "- Print the length of the list.  "
   ]
  },
  {
   "cell_type": "code",
   "execution_count": null,
   "id": "5943c689-93c1-44e8-bb8a-8eb60fdf8129",
   "metadata": {},
   "outputs": [],
   "source": [
    "# Your code here"
   ]
  },
  {
   "cell_type": "markdown",
   "id": "5867438b-4249-400c-b76b-287a59c5367c",
   "metadata": {},
   "source": [
    "### Exercise 9: Sorting a List  \n",
    "Using `numbers`:  \n",
    "- Sort the list in **ascending order**.  \n",
    "- Sort the list in **descending order**.  "
   ]
  },
  {
   "cell_type": "markdown",
   "id": "3c996ff7-3167-475b-ac6a-329b50fcf983",
   "metadata": {},
   "source": [
    "### Exercise 10: Reversing a List  \n",
    "Using `numbers`:  \n",
    "- Reverse the order of the elements.  \n"
   ]
  },
  {
   "cell_type": "code",
   "execution_count": null,
   "id": "7a70683f-eb39-44a6-8666-79946e6240d2",
   "metadata": {},
   "outputs": [],
   "source": [
    "# Your code here"
   ]
  },
  {
   "cell_type": "markdown",
   "id": "f037c17e-920e-4568-ae74-1cd41f655783",
   "metadata": {},
   "source": [
    "### Exercise 11: Copying a List  \n",
    "Using `fruits`:  \n",
    "- Create a copy of the list and store it in `new_fruits`.  \n",
    "- Print both lists.  "
   ]
  },
  {
   "cell_type": "code",
   "execution_count": null,
   "id": "662ac968-a2ca-4448-8429-a88c70096916",
   "metadata": {},
   "outputs": [],
   "source": [
    "# Your code here"
   ]
  },
  {
   "cell_type": "markdown",
   "id": "8b0685c5-7744-46ee-94e9-145cc22ca5c9",
   "metadata": {},
   "source": [
    "### Exercise 12: Combining Two Lists  \n",
    "Using:  \n",
    "```python\n",
    "list1 = [1, 2, 3]\n",
    "list2 = [4, 5, 6]\n",
    "```\n",
    "- Combine both lists into a new list combined.\n",
    "- Print combined."
   ]
  },
  {
   "cell_type": "code",
   "execution_count": 43,
   "id": "5850ab86-5d39-43d4-a2ea-b5705009e0ef",
   "metadata": {},
   "outputs": [],
   "source": [
    "# Your code here"
   ]
  }
 ],
 "metadata": {
  "kernelspec": {
   "display_name": "anaconda-panel-2023.05-py310",
   "language": "python",
   "name": "conda-env-anaconda-panel-2023.05-py310-py"
  },
  "language_info": {
   "codemirror_mode": {
    "name": "ipython",
    "version": 3
   },
   "file_extension": ".py",
   "mimetype": "text/x-python",
   "name": "python",
   "nbconvert_exporter": "python",
   "pygments_lexer": "ipython3",
   "version": "3.11.5"
  }
 },
 "nbformat": 4,
 "nbformat_minor": 5
}
