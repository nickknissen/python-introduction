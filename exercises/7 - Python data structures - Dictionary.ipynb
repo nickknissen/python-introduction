{
 "cells": [
  {
   "cell_type": "markdown",
   "id": "22d7d68b-fa0b-454f-aa5f-a865674016f6",
   "metadata": {},
   "source": [
    "# Python Data Structures - Dictionary\n",
    "\n",
    "Use pythons [dictionary type documentation](https://docs.python.org/3.10/library/stdtypes.html?highlight=dict.setdefault#mapping-types-dict) for references on methods available on a dictionary"
   ]
  },
  {
   "cell_type": "markdown",
   "id": "5ed7ff29-02cf-4837-a395-41feaf1a5500",
   "metadata": {
    "jp-MarkdownHeadingCollapsed": true
   },
   "source": [
    "### Hints"
   ]
  },
  {
   "cell_type": "markdown",
   "id": "abff7d01-3cb3-4ce5-8b3c-7b3e6d1e3980",
   "metadata": {},
   "source": [
    "1. **Creating a Dictionary**  \n",
    "   - A dictionary is created using curly braces `{}` and consists of key-value pairs.\n",
    "   - Example:  \n",
    "     ```python\n",
    "     student = {\"name\": \"Alice\", \"age\": 25, \"grade\": \"A\"}\n",
    "     ```\n",
    "\n",
    "2. **Accessing Values**  \n",
    "   - Values in a dictionary are accessed by their **keys**.\n",
    "   - Example:  \n",
    "     ```python\n",
    "     student = {\"name\": \"Alice\", \"age\": 25}\n",
    "     print(student[\"name\"])  # Output: Alice\n",
    "     ```\n",
    "   - You can also use the `.get()` method to access values safely without raising an error if the key doesn't exist.\n",
    "     ```python\n",
    "     student.get(\"grade\", \"Not available\")  # Returns 'Not available' if the key is missing\n",
    "     ```\n",
    "\n",
    "3. **Modifying a Dictionary**  \n",
    "   - You can change values by referencing the key.\n",
    "     ```python\n",
    "     student[\"age\"] = 26  # Modify the value for \"age\"\n",
    "     ```\n",
    "   - To add a new key-value pair:\n",
    "     ```python\n",
    "     student[\"subject\"] = \"Math\"\n",
    "     ```\n",
    "\n",
    "4. **Removing Elements**  \n",
    "   - You can remove a key-value pair using:\n",
    "     - `pop(key)` - Removes a key and returns the value.\n",
    "     - `del` - Deletes a key-value pair.\n",
    "     ```python\n",
    "     student.pop(\"grade\")  # Removes the key \"grade\"\n",
    "     del student[\"age\"]    # Removes the key \"age\"\n",
    "     ```\n",
    "\n",
    "5. **Checking for Key Existence**  \n",
    "   - Use the `in` keyword to check if a key exists:\n",
    "     ```python\n",
    "     if \"name\" in student:\n",
    "         print(\"Name exists in the dictionary\")\n",
    "     ```\n",
    "\n",
    "6. **Looping Through Dictionaries**  \n",
    "   - You can loop through the keys, values, or both:\n",
    "     ```python\n",
    "     for key in student:\n",
    "         print(key)\n",
    "     ```\n",
    "     ```python\n",
    "     for value in student.values():\n",
    "         print(value)\n",
    "     ```\n",
    "     ```python\n",
    "     for key, value in student.items():\n",
    "         print(key, value)\n",
    "     ```\n",
    "\n",
    "7. **Dictionary Length**  \n",
    "   - Use `len()` to get the number of key-value pairs in the dictionary:\n",
    "     ```python\n",
    "     print(len(student))  # Returns the number of items in the dictionary\n",
    "     ```\n",
    "\n",
    "8. **Merging Dictionaries**  \n",
    "   - You can merge two dictionaries using:\n",
    "     - `update()` method:  \n",
    "       ```python\n",
    "       student.update({\"grade\": \"A+\"})\n",
    "       ```\n",
    "     - Or the unpacking method (`**`):\n",
    "       ```python\n",
    "       merged = {**dict1, **dict2}\n",
    "       ```\n",
    "\n",
    "9. **Nested Dictionaries**  \n",
    "   - A dictionary can contain another dictionary as a value:\n",
    "     ```python\n",
    "     students = {\n",
    "         \"student1\": {\"name\": \"Alice\", \"age\": 25},\n",
    "         \"student2\": {\"name\": \"Bob\", \"age\": 22}\n",
    "     }\n",
    "     ```\n",
    "\n",
    "---"
   ]
  },
  {
   "cell_type": "markdown",
   "id": "6b2ea307-8da9-43f2-adb4-d7ac98cd710c",
   "metadata": {},
   "source": [
    "### Exercise 1: Creating a Dictionary  \n",
    "Create a dictionary called `student` with the following key-value pairs:  \n",
    "- `\"name\"`: `\"Alice\"`  \n",
    "- `\"age\"`: `25`  \n",
    "- `\"grade\"`: `\"A\"`  \n",
    "- Print the dictionary."
   ]
  },
  {
   "cell_type": "code",
   "execution_count": 10,
   "id": "a5ad22c4-4bb6-4327-b801-7b107e670f3a",
   "metadata": {},
   "outputs": [],
   "source": [
    "# Your code here"
   ]
  },
  {
   "cell_type": "markdown",
   "id": "b77bc31f-f243-46d8-ae69-7b29b1487655",
   "metadata": {},
   "source": [
    "### Exercise 2: Accessing Values  \n",
    "Using the `student` dictionary:  \n",
    "- Print the value associated with `\"name\"`.  \n",
    "- Print the value associated with `\"age\"`.  "
   ]
  },
  {
   "cell_type": "code",
   "execution_count": null,
   "id": "9d4a3762-ee55-4bd0-9bbb-dbf857e1dc3a",
   "metadata": {},
   "outputs": [],
   "source": [
    "# Your code here"
   ]
  },
  {
   "cell_type": "markdown",
   "id": "9b95e587-367f-4689-b282-e0e6d9924203",
   "metadata": {},
   "source": [
    "### Exercise 3: Modifying a Dictionary  \n",
    "Using the `student` dictionary:  \n",
    "- Change `\"age\"` to `26`.  \n",
    "- Add a new key `\"subject\"` with the value `\"Math\"`.  \n",
    "- Print the updated dictionary.  "
   ]
  },
  {
   "cell_type": "code",
   "execution_count": 17,
   "id": "9e499ab0-6fb8-4e1a-ab5c-105b1976ba58",
   "metadata": {},
   "outputs": [],
   "source": [
    "# Your code here"
   ]
  },
  {
   "cell_type": "markdown",
   "id": "0382bf82-7060-4674-8708-3e033b54507d",
   "metadata": {},
   "source": [
    "### Exercise 4: Removing a Key  \n",
    "Using the `student` dictionary:  \n",
    "- Remove the key `\"grade\"` using `pop()`.  \n",
    "- Print the updated dictionary.  "
   ]
  },
  {
   "cell_type": "code",
   "execution_count": null,
   "id": "e60b73fa-5727-4a55-8ccd-7b776714b741",
   "metadata": {},
   "outputs": [],
   "source": [
    "# Your code here"
   ]
  },
  {
   "cell_type": "markdown",
   "id": "f55afa25-c240-4fa7-86f3-9322ff565051",
   "metadata": {},
   "source": [
    "### Exercise 5: Checking if a Key Exists  \n",
    "Using the `student` dictionary:  \n",
    "- Check if `\"name\"` exists in the dictionary.  \n",
    "- Check if `\"address\"` exists in the dictionary"
   ]
  },
  {
   "cell_type": "code",
   "execution_count": null,
   "id": "27f6af6f-fe01-407c-88a7-e4dbede8bf59",
   "metadata": {},
   "outputs": [],
   "source": [
    "# Your code here"
   ]
  },
  {
   "cell_type": "markdown",
   "id": "ae764c25-570d-4233-b915-f7c6bbbe0147",
   "metadata": {},
   "source": [
    "### Exercise 7: Using `get()` to Avoid Errors  \n",
    "Using the `student` dictionary:  \n",
    "- Try accessing `\"grade\"` with `student[\"grade\"]` (this should cause an error).  \n",
    "- Now, use `get(\"grade\")` instead and print `\"Not found\"` if the key doesn't exist."
   ]
  },
  {
   "cell_type": "code",
   "execution_count": null,
   "id": "5d616526-47fe-4bfe-8b57-f08dc16ab4e1",
   "metadata": {},
   "outputs": [],
   "source": [
    "# Your code here"
   ]
  },
  {
   "cell_type": "markdown",
   "id": "c5d129d5-8756-4be8-a0b6-1bba8b78467f",
   "metadata": {},
   "source": [
    "### Exercise 8: Dictionary Length  \n",
    "Using the `student` dictionary:  \n",
    "- Print the number of key-value pairs.  "
   ]
  },
  {
   "cell_type": "code",
   "execution_count": null,
   "id": "5943c689-93c1-44e8-bb8a-8eb60fdf8129",
   "metadata": {},
   "outputs": [],
   "source": [
    "# Your code here"
   ]
  },
  {
   "cell_type": "markdown",
   "id": "5867438b-4249-400c-b76b-287a59c5367c",
   "metadata": {},
   "source": [
    "### Exercise 9: Merging Two Dictionaries  \n",
    "Create two dictionaries:  \n",
    "```python\n",
    "dict1 = {\"a\": 1, \"b\": 2}  \n",
    "dict2 = {\"c\": 3, \"d\": 4}\n",
    "```\n",
    "- Merge `dict2` into `dict1`.  \n",
    "- Print the result.  "
   ]
  },
  {
   "cell_type": "markdown",
   "id": "3c996ff7-3167-475b-ac6a-329b50fcf983",
   "metadata": {},
   "source": [
    "### Exercise 10: Dictionary Keys and Values  \n",
    "Using `student = {\"name\": \"Alice\", \"age\": 25, \"subject\": \"Math\"}`:  \n",
    "- Print all **keys** using `.keys()`.  \n",
    "- Print all **values** using `.values()`.  "
   ]
  },
  {
   "cell_type": "code",
   "execution_count": 40,
   "id": "7a70683f-eb39-44a6-8666-79946e6240d2",
   "metadata": {},
   "outputs": [
    {
     "name": "stdout",
     "output_type": "stream",
     "text": [
      "dict_keys(['name', 'age', 'subject'])\n"
     ]
    }
   ],
   "source": [
    "# Your code here"
   ]
  },
  {
   "cell_type": "markdown",
   "id": "f037c17e-920e-4568-ae74-1cd41f655783",
   "metadata": {},
   "source": [
    "### Exercise 11: Nested Dictionary  \n",
    "Create a dictionary `students` that contains two student dictionaries:  \n",
    "```python\n",
    "students = {\n",
    "    \"student1\": {\"name\": \"Alice\", \"age\": 25},\n",
    "    \"student2\": {\"name\": \"Bob\", \"age\": 22}\n",
    "}\n",
    "```\n",
    "\n",
    "- Print the age of `\"student2\"`.  "
   ]
  },
  {
   "cell_type": "code",
   "execution_count": null,
   "id": "662ac968-a2ca-4448-8429-a88c70096916",
   "metadata": {},
   "outputs": [],
   "source": [
    "# Your code here"
   ]
  },
  {
   "cell_type": "markdown",
   "id": "8b0685c5-7744-46ee-94e9-145cc22ca5c9",
   "metadata": {},
   "source": [
    "### Exercise 12: Default Values Using `setdefault()`  \n",
    "Using the `student` dictionary:  \n",
    "- Use `setdefault()` to retrieve `\"grade\"`, and if it doesn't exist, set it to `\"B\"`.  \n",
    "- Print the dictionary.  \n"
   ]
  },
  {
   "cell_type": "code",
   "execution_count": 43,
   "id": "5850ab86-5d39-43d4-a2ea-b5705009e0ef",
   "metadata": {},
   "outputs": [],
   "source": [
    "# Your code here"
   ]
  }
 ],
 "metadata": {
  "kernelspec": {
   "display_name": "anaconda-panel-2023.05-py310",
   "language": "python",
   "name": "conda-env-anaconda-panel-2023.05-py310-py"
  },
  "language_info": {
   "codemirror_mode": {
    "name": "ipython",
    "version": 3
   },
   "file_extension": ".py",
   "mimetype": "text/x-python",
   "name": "python",
   "nbconvert_exporter": "python",
   "pygments_lexer": "ipython3",
   "version": "3.11.5"
  }
 },
 "nbformat": 4,
 "nbformat_minor": 5
}
