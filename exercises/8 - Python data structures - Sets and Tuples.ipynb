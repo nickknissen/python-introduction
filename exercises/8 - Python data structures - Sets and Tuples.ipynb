{
 "cells": [
  {
   "cell_type": "markdown",
   "id": "22d7d68b-fa0b-454f-aa5f-a865674016f6",
   "metadata": {},
   "source": [
    "# Python Data Structures - Sets and Tuples\n",
    "\n",
    "See [set type documentation](https://docs.python.org/3.10/library/stdtypes.html#set) and [tuple type documentation](https://docs.python.org/3.10/library/stdtypes.html#tuples) for references on methods available on a sets and tuples "
   ]
  },
  {
   "cell_type": "markdown",
   "id": "5ed7ff29-02cf-4837-a395-41feaf1a5500",
   "metadata": {},
   "source": [
    "## Hints"
   ]
  },
  {
   "cell_type": "markdown",
   "id": "abff7d01-3cb3-4ce5-8b3c-7b3e6d1e3980",
   "metadata": {
    "jp-MarkdownHeadingCollapsed": true
   },
   "source": [
    "Python provides **sets** and **tuples** as built-in collection types for storing multiple values.  \n",
    "- **Tuples** are **ordered** and **immutable** (cannot be changed after creation).  \n",
    "- **Sets** are **unordered**, **mutable**, and do **not allow duplicate values**.  \n",
    "\n",
    "### Tuples\n",
    "\n",
    "### 1. Creating Tuples  \n",
    "- Tuples are created using **parentheses `()`**.  \n",
    "- Example:\n",
    "  ```python\n",
    "  colors = (\"red\", \"green\", \"blue\")\n",
    "  ```\n",
    "\n",
    "### 2. Accessing Tuple Elements  \n",
    "- You can access elements using **indexing** just like lists:\n",
    "  ```python\n",
    "  print(colors[0])  # Output: red\n",
    "  ```\n",
    "- **Negative indexing** works as well:\n",
    "  ```python\n",
    "  print(colors[-1])  # Output: blue\n",
    "  ```\n",
    "\n",
    "### 3. Tuple Unpacking  \n",
    "- You can **assign tuple values** to multiple variables:\n",
    "  ```python\n",
    "  person = (\"Alice\", 25, \"Engineer\")\n",
    "  name, age, profession = person\n",
    "  print(name)  # Output: Alice\n",
    "  ```\n",
    "\n",
    "### 4. Tuple Concatenation & Repetition  \n",
    "- **Tuples can be combined** using `+`:\n",
    "  ```python\n",
    "  tuple1 = (1, 2, 3)\n",
    "  tuple2 = (4, 5, 6)\n",
    "  combined = tuple1 + tuple2\n",
    "  ```\n",
    "- **Tuples can be repeated** using `*`:\n",
    "  ```python\n",
    "  repeated = tuple1 * 2  # Output: (1, 2, 3, 1, 2, 3)\n",
    "  ```\n",
    "\n",
    "---\n",
    "\n",
    "### Sets\n",
    "\n",
    "### 1. Creating Sets  \n",
    "- Sets are **created using curly braces `{}`**:\n",
    "  ```python\n",
    "  fruits = {\"apple\", \"banana\", \"cherry\"}\n",
    "  ```\n",
    "- **Duplicates are automatically removed**:\n",
    "  ```python\n",
    "  set_example = {1, 2, 2, 3, 4, 4}\n",
    "  print(set_example)  # Output: {1, 2, 3, 4}\n",
    "  ```\n",
    "\n",
    "### 2. Checking for Membership  \n",
    "- Use `in` to check if a value exists in a set:\n",
    "  ```python\n",
    "  if \"apple\" in fruits:\n",
    "      print(\"Apple is in the set\")\n",
    "  ```\n",
    "\n",
    "### 3. Adding and Removing Elements  \n",
    "- Use `.add()` to add elements:\n",
    "  ```python\n",
    "  fruits.add(\"grape\")\n",
    "  ```\n",
    "- Use `.remove()` to delete an item (raises an error if not found):\n",
    "  ```python\n",
    "  fruits.remove(\"banana\")\n",
    "  ```\n",
    "- Use `.discard()` to remove an item **without errors**:\n",
    "  ```python\n",
    "  fruits.discard(\"grape\")  # No error even if \"grape\" doesn't exist\n",
    "  ```\n",
    "\n",
    "### 4. Set Operations  \n",
    "- **Union (`|`)**: Combines two sets (removes duplicates).\n",
    "  ```python\n",
    "  set1 = {1, 2, 3}\n",
    "  set2 = {3, 4, 5}\n",
    "  union_set = set1 | set2  # Output: {1, 2, 3, 4, 5}\n",
    "  ```\n",
    "- **Intersection (`&`)**: Finds common elements.\n",
    "  ```python\n",
    "  intersection_set = set1 & set2  # Output: {3}\n",
    "  ```\n",
    "- **Difference (`-`)**: Elements in `set1` but not in `set2`.\n",
    "  ```python\n",
    "  difference_set = set1 - set2  # Output: {1, 2}\n",
    "  ```\n",
    "- **Symmetric Difference (`^`)**: Elements in either set, but not both.\n",
    "  ```python\n",
    "  symmetric_diff = set1 ^ set2  # Output: {1, 2, 4, 5}\n",
    "  ```\n",
    "\n",
    "### 5. Converting Between Lists, Tuples, and Sets  \n",
    "- Convert a list to a **set** to remove duplicates:\n",
    "  ```python\n",
    "  numbers = [1, 2, 2, 3, 4, 4, 5]\n",
    "  unique_numbers = set(numbers)  # Output: {1, 2, 3, 4, 5}\n",
    "  ```\n",
    "- Convert a **set** back to a list:\n",
    "  ```python\n",
    "  list_version = list(unique_numbers)\n",
    "  ```\n",
    "- Convert a **list** to a tuple:\n",
    "  ```python\n",
    "  tuple_version = tuple(numbers)\n",
    "  ```"
   ]
  },
  {
   "cell_type": "markdown",
   "id": "4b0dbb33-1df0-49e0-8691-fe79e534ca8c",
   "metadata": {},
   "source": [
    "## Exercises"
   ]
  },
  {
   "cell_type": "markdown",
   "id": "6b2ea307-8da9-43f2-adb4-d7ac98cd710c",
   "metadata": {},
   "source": [
    "### Exercise 1: Creating a Tuple  \n",
    "Create a tuple called `colors` containing `\"red\"`, `\"green\"`, and `\"blue\"`.  \n",
    "- Print the tuple.  \n",
    "- Use `type()` to confirm it's a tuple.  "
   ]
  },
  {
   "cell_type": "code",
   "execution_count": null,
   "id": "a5ad22c4-4bb6-4327-b801-7b107e670f3a",
   "metadata": {},
   "outputs": [],
   "source": [
    "# Your code here"
   ]
  },
  {
   "cell_type": "markdown",
   "id": "b77bc31f-f243-46d8-ae69-7b29b1487655",
   "metadata": {},
   "source": [
    "### Exercise 2: Accessing Tuple Elements  \n",
    "Using the `colors` tuple:  \n",
    "- Print the **first** and **last** elements using indexing.  \n",
    "- Try to change the first element and observe what happens. "
   ]
  },
  {
   "cell_type": "code",
   "execution_count": null,
   "id": "9d4a3762-ee55-4bd0-9bbb-dbf857e1dc3a",
   "metadata": {},
   "outputs": [],
   "source": [
    "# Your code here"
   ]
  },
  {
   "cell_type": "markdown",
   "id": "9b95e587-367f-4689-b282-e0e6d9924203",
   "metadata": {},
   "source": [
    "### Exercise 3: Tuple Unpacking  \n",
    "Given the tuple `person = (\"Alice\", 25, \"Engineer\")`:  \n",
    "- Unpack the values into three separate variables: `name`, `age`, and `profession`.  \n",
    "- Print each variable.  "
   ]
  },
  {
   "cell_type": "code",
   "execution_count": null,
   "id": "9e499ab0-6fb8-4e1a-ab5c-105b1976ba58",
   "metadata": {},
   "outputs": [],
   "source": [
    "# Your code here"
   ]
  },
  {
   "cell_type": "markdown",
   "id": "0382bf82-7060-4674-8708-3e033b54507d",
   "metadata": {},
   "source": [
    "### Exercise 4: Tuple Concatenation & Repetition  \n",
    "Using `tuple1 = (1, 2, 3)` and `tuple2 = (4, 5, 6)`:  \n",
    "- Create a new tuple `combined` by concatenating `tuple1` and `tuple2`.  \n",
    "- Create another tuple `repeated` by repeating `tuple1` **two times**.  \n",
    "- Print both results.  "
   ]
  },
  {
   "cell_type": "code",
   "execution_count": null,
   "id": "e60b73fa-5727-4a55-8ccd-7b776714b741",
   "metadata": {},
   "outputs": [],
   "source": [
    "# Your code here"
   ]
  },
  {
   "cell_type": "markdown",
   "id": "f55afa25-c240-4fa7-86f3-9322ff565051",
   "metadata": {},
   "source": [
    "### Exercise 5: Creating a Set  \n",
    "Create a set called `fruits` containing `\"apple\"`, `\"banana\"`, and `\"cherry\"`.  \n",
    "- Print the set.  \n",
    "- Try adding `\"banana\"` again and observe what happens.  "
   ]
  },
  {
   "cell_type": "code",
   "execution_count": null,
   "id": "27f6af6f-fe01-407c-88a7-e4dbede8bf59",
   "metadata": {},
   "outputs": [],
   "source": [
    "# Your code here"
   ]
  },
  {
   "cell_type": "markdown",
   "id": "ae764c25-570d-4233-b915-f7c6bbbe0147",
   "metadata": {},
   "source": [
    "### Exercise 6: Checking for Set Membership  \n",
    "Using the `fruits` set:  \n",
    "- Check if `\"apple\"` is in the set.  \n",
    "- Check if `\"grape\"` is in the set.  "
   ]
  },
  {
   "cell_type": "code",
   "execution_count": null,
   "id": "5d616526-47fe-4bfe-8b57-f08dc16ab4e1",
   "metadata": {},
   "outputs": [],
   "source": [
    "# Your code here"
   ]
  },
  {
   "cell_type": "markdown",
   "id": "c5d129d5-8756-4be8-a0b6-1bba8b78467f",
   "metadata": {},
   "source": [
    "### Exercise 7: Set Operations (Union & Intersection)  \n",
    "Given:  \n",
    "```python\n",
    "set1 = {1, 2, 3, 4}\n",
    "set2 = {3, 4, 5, 6}\n",
    "```\n",
    "- Find the **union** of `set1` and `set2`.  \n",
    "- Find the **intersection** of `set1` and `set2`.  \n"
   ]
  },
  {
   "cell_type": "code",
   "execution_count": null,
   "id": "5943c689-93c1-44e8-bb8a-8eb60fdf8129",
   "metadata": {},
   "outputs": [],
   "source": [
    "# Your code here"
   ]
  },
  {
   "cell_type": "markdown",
   "id": "5867438b-4249-400c-b76b-287a59c5367c",
   "metadata": {},
   "source": [
    "### Exercise 8: Removing Elements from a Set  \n",
    "Using the `fruits` set:  \n",
    "- Remove `\"banana\"` using `remove()`.  \n",
    "- Try removing `\"grape\"` using `discard()` and observe what happens."
   ]
  },
  {
   "cell_type": "markdown",
   "id": "3c996ff7-3167-475b-ac6a-329b50fcf983",
   "metadata": {},
   "source": [
    "### Exercise 9: Converting Between Lists, Tuples, and Sets  \n",
    "Given the list:  \n",
    "```python\n",
    "numbers = [1, 2, 2, 3, 4, 4, 5]\n",
    "```\n",
    "- Convert it into a **set** to remove duplicates.  \n",
    "- Convert the set back into a **list**.  \n",
    "- Convert the list into a **tuple**.  \n",
    "- Print all results.  \n"
   ]
  },
  {
   "cell_type": "code",
   "execution_count": null,
   "id": "7a70683f-eb39-44a6-8666-79946e6240d2",
   "metadata": {},
   "outputs": [],
   "source": [
    "# Your code here"
   ]
  },
  {
   "cell_type": "markdown",
   "id": "f037c17e-920e-4568-ae74-1cd41f655783",
   "metadata": {},
   "source": [
    "### Exercise 10: Finding the Difference Between Sets  \n",
    "Given:  \n",
    "```python\n",
    "set_a = {10, 20, 30, 40}\n",
    "set_b = {30, 40, 50, 60}\n",
    "```\n",
    "- Find the **difference** (`set_a - set_b`).  \n",
    "- Find the **symmetric difference** (`set_a ^ set_b`).  "
   ]
  },
  {
   "cell_type": "code",
   "execution_count": null,
   "id": "662ac968-a2ca-4448-8429-a88c70096916",
   "metadata": {},
   "outputs": [],
   "source": [
    "# Your code here"
   ]
  },
  {
   "cell_type": "markdown",
   "id": "8b0685c5-7744-46ee-94e9-145cc22ca5c9",
   "metadata": {},
   "source": [
    "### Exercise 12: Default Values Using `setdefault()`  \n",
    "Using the `student` dictionary:  \n",
    "- Use `setdefault()` to retrieve `\"grade\"`, and if it doesn't exist, set it to `\"B\"`.  \n",
    "- Print the dictionary.  \n"
   ]
  },
  {
   "cell_type": "code",
   "execution_count": null,
   "id": "5850ab86-5d39-43d4-a2ea-b5705009e0ef",
   "metadata": {},
   "outputs": [],
   "source": [
    "# Your code here"
   ]
  }
 ],
 "metadata": {
  "kernelspec": {
   "display_name": "anaconda-panel-2023.05-py310",
   "language": "python",
   "name": "conda-env-anaconda-panel-2023.05-py310-py"
  },
  "language_info": {
   "codemirror_mode": {
    "name": "ipython",
    "version": 3
   },
   "file_extension": ".py",
   "mimetype": "text/x-python",
   "name": "python",
   "nbconvert_exporter": "python",
   "pygments_lexer": "ipython3",
   "version": "3.11.5"
  }
 },
 "nbformat": 4,
 "nbformat_minor": 5
}
