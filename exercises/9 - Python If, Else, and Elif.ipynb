{
 "cells": [
  {
   "cell_type": "markdown",
   "id": "22d7d68b-fa0b-454f-aa5f-a865674016f6",
   "metadata": {},
   "source": [
    "# Python If, Else, and Elif \n",
    "\n",
    "See [Control Flow Tools](https://docs.python.org/3/tutorial/controlflow.html#if-statements) for pythons own documentation"
   ]
  },
  {
   "cell_type": "markdown",
   "id": "5ed7ff29-02cf-4837-a395-41feaf1a5500",
   "metadata": {
    "jp-MarkdownHeadingCollapsed": true
   },
   "source": [
    "## Hints"
   ]
  },
  {
   "cell_type": "markdown",
   "id": "06d1412a-0bfd-4841-b62b-6e111eaabd18",
   "metadata": {},
   "source": [
    "### 1. The If Statement\n",
    "- The `if` statement is used to **execute code only if a condition is true**.  \n",
    "- The condition is usually a **comparison** like `==`, `>`, `<`, `>=`, `<=`, or `!=`.  \n",
    "- Example structure:\n",
    "  ```python\n",
    "  if condition:\n",
    "      # Code runs only if condition is True\n",
    "  ```\n",
    "\n",
    "### 2. The If-Else Statement  \n",
    "- If the condition in `if` is **False**, the `else` block runs instead.\n",
    "- Structure:\n",
    "  ```python\n",
    "  if condition:\n",
    "      # Runs if condition is True\n",
    "  else:\n",
    "      # Runs if condition is False\n",
    "  ```\n",
    "\n",
    "### 3. The Elif Statement (Multiple Conditions)  \n",
    "- The `elif` statement allows for **multiple conditions** to be checked.\n",
    "- It stands for **\"else if\"**.\n",
    "- Structure:\n",
    "  ```python\n",
    "  if condition1:\n",
    "      # Runs if condition1 is True\n",
    "  elif condition2:\n",
    "      # Runs if condition2 is True (if condition1 was False)\n",
    "  else:\n",
    "      # Runs if neither condition1 nor condition2 was True\n",
    "  ```\n",
    "\n",
    "### 4. Comparison Operators  \n",
    "- **Comparison operators** are used to compare values in conditions:\n",
    "  - `==` (equal to)  \n",
    "  - `!=` (not equal to)  \n",
    "  - `>` (greater than)  \n",
    "  - `<` (less than)  \n",
    "  - `>=` (greater than or equal to)  \n",
    "  - `<=` (less than or equal to)  \n",
    "\n",
    "### 5. Logical Operators  \n",
    "- **Logical operators** can combine multiple conditions:\n",
    "  - `and` → **Both** conditions must be True.  \n",
    "  - `or` → **At least one** condition must be True.  \n",
    "  - `not` → **Reverses** the truth value of a condition.  \n",
    "\n",
    "### 6. Checking for Even or Odd Numbers  \n",
    "- Numbers can be checked using the **modulus operator (`%`)** to see if they are divisible by 2.\n",
    "\n",
    "### 7. Nested If Statements  \n",
    "- `if` statements can be placed **inside** other `if` statements to create more complex logic.\n",
    "\n",
    "### 8. Handling User Input  \n",
    "- `input()` can be used to **get user input** and make decisions based on what the user enters.\n",
    "\n",
    "### 9. Checking for Specific Words in Strings  \n",
    "- The `in` keyword can be used to **check if a word exists in a string**.\n",
    "\n",
    "### 10. Working with Conditions in Real-World Scenarios  \n",
    "- If statements can be used for **age restrictions**, **grading systems**, **authentication**, and more.\n"
   ]
  },
  {
   "cell_type": "markdown",
   "id": "4b0dbb33-1df0-49e0-8691-fe79e534ca8c",
   "metadata": {},
   "source": [
    "## Exercises"
   ]
  },
  {
   "cell_type": "markdown",
   "id": "6b2ea307-8da9-43f2-adb4-d7ac98cd710c",
   "metadata": {},
   "source": [
    "### Exercise 1: Basic If Statement  \n",
    "Write a program that checks if a number is **greater than 10**. If it is, print `\"The number is greater than 10\"`."
   ]
  },
  {
   "cell_type": "code",
   "execution_count": null,
   "id": "a5ad22c4-4bb6-4327-b801-7b107e670f3a",
   "metadata": {},
   "outputs": [],
   "source": [
    "# Your code here"
   ]
  },
  {
   "cell_type": "markdown",
   "id": "b77bc31f-f243-46d8-ae69-7b29b1487655",
   "metadata": {},
   "source": [
    "### Exercise 2: If-Else Condition  \n",
    "Write a program that asks for a user's age and prints:  \n",
    "- `\"You are an adult\"` if age is **18 or more**.  \n",
    "- `\"You are a minor\"` otherwise.  "
   ]
  },
  {
   "cell_type": "code",
   "execution_count": null,
   "id": "9d4a3762-ee55-4bd0-9bbb-dbf857e1dc3a",
   "metadata": {},
   "outputs": [],
   "source": [
    "# Your code here"
   ]
  },
  {
   "cell_type": "markdown",
   "id": "9b95e587-367f-4689-b282-e0e6d9924203",
   "metadata": {},
   "source": [
    "### Exercise 3: Using Elif for Multiple Conditions  \n",
    "Write a program that checks a person's temperature and prints:  \n",
    "- `\"You have a fever\"` if temperature is **above 38°C**.  \n",
    "- `\"You have a normal temperature\"` if it is **between 36°C and 38°C**.  \n",
    "- `\"You might be cold\"` if it is **below 36°C**.  "
   ]
  },
  {
   "cell_type": "code",
   "execution_count": null,
   "id": "9e499ab0-6fb8-4e1a-ab5c-105b1976ba58",
   "metadata": {},
   "outputs": [],
   "source": [
    "# Your code here"
   ]
  },
  {
   "cell_type": "markdown",
   "id": "0382bf82-7060-4674-8708-3e033b54507d",
   "metadata": {},
   "source": [
    "### Exercise 4: Even or Odd Number  \n",
    "Write a program that checks if a number is **even** or **odd**. Print `\"Even number\"` or `\"Odd number\"` accordingly.  \n"
   ]
  },
  {
   "cell_type": "code",
   "execution_count": null,
   "id": "e60b73fa-5727-4a55-8ccd-7b776714b741",
   "metadata": {},
   "outputs": [],
   "source": [
    "# Your code here"
   ]
  },
  {
   "cell_type": "markdown",
   "id": "f55afa25-c240-4fa7-86f3-9322ff565051",
   "metadata": {},
   "source": [
    "### Exercise 5: Finding the Largest Number  \n",
    "Write a program that takes **three numbers** and prints the **largest one**.  \n"
   ]
  },
  {
   "cell_type": "code",
   "execution_count": null,
   "id": "27f6af6f-fe01-407c-88a7-e4dbede8bf59",
   "metadata": {},
   "outputs": [],
   "source": [
    "# Your code here"
   ]
  },
  {
   "cell_type": "markdown",
   "id": "ae764c25-570d-4233-b915-f7c6bbbe0147",
   "metadata": {},
   "source": [
    "### Exercise 6: Grading System  \n",
    "Write a program that asks for a student's score and prints their grade based on the following:  \n",
    "- **90 or more** → `\"A\"`  \n",
    "- **80-89** → `\"B\"`  \n",
    "- **70-79** → `\"C\"`  \n",
    "- **60-69** → `\"D\"`  \n",
    "- **Below 60** → `\"F\"`\n",
    "\n",
    "You can use `score = int(input(\"What is the student student\"))` to make the cell ask for input."
   ]
  },
  {
   "cell_type": "code",
   "execution_count": null,
   "id": "5d616526-47fe-4bfe-8b57-f08dc16ab4e1",
   "metadata": {},
   "outputs": [],
   "source": [
    "# Your code here"
   ]
  },
  {
   "cell_type": "markdown",
   "id": "c5d129d5-8756-4be8-a0b6-1bba8b78467f",
   "metadata": {},
   "source": [
    "### Exercise 8: Leap Year Checker  \n",
    "Write a program that checks if a **year is a leap year** using the following rules:  \n",
    "- A year is a leap year if it is **divisible by 4**.  \n",
    "- But **if it is also divisible by 100,** it must also be **divisible by 400** to be a leap year.  \n"
   ]
  },
  {
   "cell_type": "code",
   "execution_count": null,
   "id": "5943c689-93c1-44e8-bb8a-8eb60fdf8129",
   "metadata": {},
   "outputs": [],
   "source": [
    "# Your code here"
   ]
  },
  {
   "cell_type": "markdown",
   "id": "5867438b-4249-400c-b76b-287a59c5367c",
   "metadata": {},
   "source": [
    "### Exercise 9: Checking Positive, Negative, or Zero  \n",
    "Write a program that checks if a number is **positive, negative, or zero**, and prints the corresponding message."
   ]
  },
  {
   "cell_type": "code",
   "execution_count": null,
   "id": "7581d588-9647-4eb7-a3e8-4724605f533a",
   "metadata": {},
   "outputs": [],
   "source": [
    "# Your code here"
   ]
  },
  {
   "cell_type": "markdown",
   "id": "3c996ff7-3167-475b-ac6a-329b50fcf983",
   "metadata": {},
   "source": [
    "### Exercise 10: Checking User Login  \n",
    "Write a program that asks for a **username and password**.  \n",
    "- If the username is `\"admin\"` and the password is `\"1234\"`, print `\"Access granted\"`  \n",
    "- Otherwise, print `\"Access denied\"`  "
   ]
  },
  {
   "cell_type": "code",
   "execution_count": null,
   "id": "7a70683f-eb39-44a6-8666-79946e6240d2",
   "metadata": {},
   "outputs": [],
   "source": [
    "username = input(\"What is your username?\")\n",
    "password = input(\"What is your password?\")\n",
    "# Your code here\n"
   ]
  }
 ],
 "metadata": {
  "kernelspec": {
   "display_name": "anaconda-panel-2023.05-py310",
   "language": "python",
   "name": "conda-env-anaconda-panel-2023.05-py310-py"
  },
  "language_info": {
   "codemirror_mode": {
    "name": "ipython",
    "version": 3
   },
   "file_extension": ".py",
   "mimetype": "text/x-python",
   "name": "python",
   "nbconvert_exporter": "python",
   "pygments_lexer": "ipython3",
   "version": "3.11.5"
  }
 },
 "nbformat": 4,
 "nbformat_minor": 5
}
